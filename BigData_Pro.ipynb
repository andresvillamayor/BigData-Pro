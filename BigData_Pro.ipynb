{
  "nbformat": 4,
  "nbformat_minor": 0,
  "metadata": {
    "colab": {
      "name": "BigData-Pro.ipynb",
      "provenance": [],
      "authorship_tag": "ABX9TyMdQV8z/6tbARqk2imETQib",
      "include_colab_link": true
    },
    "kernelspec": {
      "name": "python3",
      "display_name": "Python 3"
    }
  },
  "cells": [
    {
      "cell_type": "markdown",
      "metadata": {
        "id": "view-in-github",
        "colab_type": "text"
      },
      "source": [
        "<a href=\"https://colab.research.google.com/github/andresvillamayor/BigData-Pro/blob/main/BigData_Pro.ipynb\" target=\"_parent\"><img src=\"https://colab.research.google.com/assets/colab-badge.svg\" alt=\"Open In Colab\"/></a>"
      ]
    },
    {
      "cell_type": "markdown",
      "metadata": {
        "id": "JNnvZWOXDS2e"
      },
      "source": [
        "Proyecto de Big Data \n",
        "Andrés Villamayor \n",
        "Universidad Comunera"
      ]
    },
    {
      "cell_type": "code",
      "metadata": {
        "id": "8MugxPMXDs0d"
      },
      "source": [
        "#importando librerias\n",
        "import pandas as pd \n",
        "from  google.colab import drive "
      ],
      "execution_count": 1,
      "outputs": []
    },
    {
      "cell_type": "code",
      "metadata": {
        "id": "RpbnIwmBHbrT",
        "outputId": "3a2676f1-c0f9-465c-fb69-fedd81b750ef",
        "colab": {
          "base_uri": "https://localhost:8080/"
        }
      },
      "source": [
        "drive.mount(\"/content/drive\")\n",
        "#montar mi drive para los archivos \n"
      ],
      "execution_count": 3,
      "outputs": [
        {
          "output_type": "stream",
          "text": [
            "Mounted at /content/drive\n"
          ],
          "name": "stdout"
        }
      ]
    },
    {
      "cell_type": "code",
      "metadata": {
        "id": "lV4a018wJ3sV"
      },
      "source": [
        "data = pd.read_csv(\"/content/drive/My Drive/UCOM-BIGDATA/datatweet-07112020-v1.csv\", sep=\",\" , engine=\"python\")"
      ],
      "execution_count": 5,
      "outputs": []
    },
    {
      "cell_type": "code",
      "metadata": {
        "id": "XtdAhmhHLDsA",
        "outputId": "e00fa280-0bfe-44e3-fcd4-7d724c40ee5a",
        "colab": {
          "base_uri": "https://localhost:8080/",
          "height": 289
        }
      },
      "source": [
        "data.head()"
      ],
      "execution_count": 7,
      "outputs": [
        {
          "output_type": "execute_result",
          "data": {
            "text/html": [
              "<div>\n",
              "<style scoped>\n",
              "    .dataframe tbody tr th:only-of-type {\n",
              "        vertical-align: middle;\n",
              "    }\n",
              "\n",
              "    .dataframe tbody tr th {\n",
              "        vertical-align: top;\n",
              "    }\n",
              "\n",
              "    .dataframe thead th {\n",
              "        text-align: right;\n",
              "    }\n",
              "</style>\n",
              "<table border=\"1\" class=\"dataframe\">\n",
              "  <thead>\n",
              "    <tr style=\"text-align: right;\">\n",
              "      <th></th>\n",
              "      <th>id</th>\n",
              "      <th>texto</th>\n",
              "      <th>Fecha</th>\n",
              "      <th>retweet</th>\n",
              "      <th>favorite</th>\n",
              "      <th>dispositivo</th>\n",
              "      <th>codigo_usuario</th>\n",
              "      <th>alias_de_usuario</th>\n",
              "      <th>nombre_usuario</th>\n",
              "      <th>fecha_de_usuario</th>\n",
              "      <th>descripcion_del_usuario</th>\n",
              "      <th>seguidores_de_usuario</th>\n",
              "      <th>amigos_de_usuario</th>\n",
              "      <th>origen_usuario</th>\n",
              "    </tr>\n",
              "  </thead>\n",
              "  <tbody>\n",
              "    <tr>\n",
              "      <th>0</th>\n",
              "      <td>1325000220472709120</td>\n",
              "      <td>RT @hoypy: https://t.co/S7JdHyHoLT</td>\n",
              "      <td>2020-11-07 09:00:44</td>\n",
              "      <td>4</td>\n",
              "      <td>0</td>\n",
              "      <td>Twitter for iPhone</td>\n",
              "      <td>151214860</td>\n",
              "      <td>ccentenoc</td>\n",
              "      <td>Carlos Centeno</td>\n",
              "      <td>2010-06-02 22:11:59</td>\n",
              "      <td>Periodista inconformista | Divulgo las investi...</td>\n",
              "      <td>2619</td>\n",
              "      <td>1859</td>\n",
              "      <td>Granada, Andalucía</td>\n",
              "    </tr>\n",
              "    <tr>\n",
              "      <th>1</th>\n",
              "      <td>1324991828588900352</td>\n",
              "      <td>RT @FabianCosta1: Entre los 10 fallecidos por ...</td>\n",
              "      <td>2020-11-07 08:27:23</td>\n",
              "      <td>2</td>\n",
              "      <td>0</td>\n",
              "      <td>Twitter for Android</td>\n",
              "      <td>366739674</td>\n",
              "      <td>inesverag</td>\n",
              "      <td>Inés Vera</td>\n",
              "      <td>2011-09-02 18:44:16</td>\n",
              "      <td>Propietaria y Conductora de @noticias_atp por ...</td>\n",
              "      <td>209</td>\n",
              "      <td>427</td>\n",
              "      <td>Ñemby-Paraguay</td>\n",
              "    </tr>\n",
              "    <tr>\n",
              "      <th>2</th>\n",
              "      <td>1324972016840151042</td>\n",
              "      <td>RT @cinthia_mora: Pablo Herken venció al COVID...</td>\n",
              "      <td>2020-11-07 07:08:40</td>\n",
              "      <td>14</td>\n",
              "      <td>0</td>\n",
              "      <td>Twitter for Android</td>\n",
              "      <td>164378199</td>\n",
              "      <td>AroRojas</td>\n",
              "      <td>AROLITO</td>\n",
              "      <td>2010-07-08 18:45:13</td>\n",
              "      <td>NaN</td>\n",
              "      <td>155</td>\n",
              "      <td>933</td>\n",
              "      <td>Asuncion - Paraguay</td>\n",
              "    </tr>\n",
              "    <tr>\n",
              "      <th>3</th>\n",
              "      <td>1324955022631837697</td>\n",
              "      <td>RT @FabianCosta1: Entre los 10 fallecidos por ...</td>\n",
              "      <td>2020-11-07 06:01:08</td>\n",
              "      <td>2</td>\n",
              "      <td>0</td>\n",
              "      <td>Twitter for iPhone</td>\n",
              "      <td>77025881</td>\n",
              "      <td>robcantero</td>\n",
              "      <td>ᖇOB CᗩᑎTEᖇO</td>\n",
              "      <td>2009-09-24 19:47:59</td>\n",
              "      <td>#Fotógrafo #SocialMedia #Corresponsal de #Para...</td>\n",
              "      <td>5048</td>\n",
              "      <td>1784</td>\n",
              "      <td>Asunción - Paraguay</td>\n",
              "    </tr>\n",
              "    <tr>\n",
              "      <th>4</th>\n",
              "      <td>1324947182181634048</td>\n",
              "      <td>Entre los 10 fallecidos por covid-19 este vier...</td>\n",
              "      <td>2020-11-07 05:29:59</td>\n",
              "      <td>2</td>\n",
              "      <td>2</td>\n",
              "      <td>Twitter for Android</td>\n",
              "      <td>382748730</td>\n",
              "      <td>FabianCosta1</td>\n",
              "      <td>Fabian Costa</td>\n",
              "      <td>2011-09-30 16:25:22</td>\n",
              "      <td>Periodista. Papá de tres hermosos pequeños.\\nD...</td>\n",
              "      <td>7418</td>\n",
              "      <td>905</td>\n",
              "      <td>Lambare Paraguay</td>\n",
              "    </tr>\n",
              "  </tbody>\n",
              "</table>\n",
              "</div>"
            ],
            "text/plain": [
              "                    id  ...       origen_usuario\n",
              "0  1325000220472709120  ...   Granada, Andalucía\n",
              "1  1324991828588900352  ...       Ñemby-Paraguay\n",
              "2  1324972016840151042  ...  Asuncion - Paraguay\n",
              "3  1324955022631837697  ...  Asunción - Paraguay\n",
              "4  1324947182181634048  ...     Lambare Paraguay\n",
              "\n",
              "[5 rows x 14 columns]"
            ]
          },
          "metadata": {
            "tags": []
          },
          "execution_count": 7
        }
      ]
    },
    {
      "cell_type": "code",
      "metadata": {
        "id": "fxThER-iLUMW",
        "outputId": "9690d709-2b35-4c28-c162-a80cab6068fb",
        "colab": {
          "base_uri": "https://localhost:8080/"
        }
      },
      "source": [
        "#usar el texto para (ver el corpus para el analisis de sentimiento)\n",
        "#importamos la libreria NLTK ( Natural Lenguage Tool Kit)\n",
        "import nltk\n",
        "nltk.download('stopwords')"
      ],
      "execution_count": 15,
      "outputs": [
        {
          "output_type": "stream",
          "text": [
            "[nltk_data] Downloading package stopwords to /root/nltk_data...\n",
            "[nltk_data]   Unzipping corpora/stopwords.zip.\n"
          ],
          "name": "stdout"
        },
        {
          "output_type": "execute_result",
          "data": {
            "text/plain": [
              "True"
            ]
          },
          "metadata": {
            "tags": []
          },
          "execution_count": 15
        }
      ]
    },
    {
      "cell_type": "code",
      "metadata": {
        "id": "j0L-qgxsQeJB"
      },
      "source": [
        "from nltk.corpus import stopwords\n",
        "# Initialize the stopwords\n",
        "stoplist = stopwords.words('spanish')"
      ],
      "execution_count": 16,
      "outputs": []
    }
  ]
}