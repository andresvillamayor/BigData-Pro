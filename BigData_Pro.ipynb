{
  "nbformat": 4,
  "nbformat_minor": 0,
  "metadata": {
    "colab": {
      "name": "BigData-Pro.ipynb",
      "provenance": [],
      "authorship_tag": "ABX9TyPC7V65K9tROavarYkmQp7V",
      "include_colab_link": true
    },
    "kernelspec": {
      "name": "python3",
      "display_name": "Python 3"
    }
  },
  "cells": [
    {
      "cell_type": "markdown",
      "metadata": {
        "id": "view-in-github",
        "colab_type": "text"
      },
      "source": [
        "<a href=\"https://colab.research.google.com/github/andresvillamayor/BigData-Pro/blob/main/BigData_Pro.ipynb\" target=\"_parent\"><img src=\"https://colab.research.google.com/assets/colab-badge.svg\" alt=\"Open In Colab\"/></a>"
      ]
    },
    {
      "cell_type": "markdown",
      "metadata": {
        "id": "JNnvZWOXDS2e"
      },
      "source": [
        "Proyecto de Big Data \n",
        "Andrés Villamayor \n",
        "Universidad Comunera"
      ]
    },
    {
      "cell_type": "code",
      "metadata": {
        "id": "8MugxPMXDs0d"
      },
      "source": [
        "#importando librerias\n",
        "import pandas as pd \n",
        "from  google.colab import drive "
      ],
      "execution_count": 76,
      "outputs": []
    },
    {
      "cell_type": "code",
      "metadata": {
        "id": "RpbnIwmBHbrT",
        "outputId": "aecc3c77-94fe-4bad-be96-6e3a3d869808",
        "colab": {
          "base_uri": "https://localhost:8080/"
        }
      },
      "source": [
        "drive.mount(\"/content/drive\")\n",
        "#montar mi drive para los archivos \n"
      ],
      "execution_count": 77,
      "outputs": [
        {
          "output_type": "stream",
          "text": [
            "Drive already mounted at /content/drive; to attempt to forcibly remount, call drive.mount(\"/content/drive\", force_remount=True).\n"
          ],
          "name": "stdout"
        }
      ]
    },
    {
      "cell_type": "code",
      "metadata": {
        "id": "lV4a018wJ3sV"
      },
      "source": [
        "data = pd.read_csv(\"/content/drive/My Drive/UCOM-BIGDATA/datatweet-07112020-v2.csv\", sep=\",\" , engine=\"python\")"
      ],
      "execution_count": 78,
      "outputs": []
    },
    {
      "cell_type": "code",
      "metadata": {
        "id": "XtdAhmhHLDsA",
        "outputId": "aeaa38c1-8991-4b38-8f3d-04d35d9d4d6d",
        "colab": {
          "base_uri": "https://localhost:8080/",
          "height": 289
        }
      },
      "source": [
        "data.head()"
      ],
      "execution_count": 79,
      "outputs": [
        {
          "output_type": "execute_result",
          "data": {
            "text/html": [
              "<div>\n",
              "<style scoped>\n",
              "    .dataframe tbody tr th:only-of-type {\n",
              "        vertical-align: middle;\n",
              "    }\n",
              "\n",
              "    .dataframe tbody tr th {\n",
              "        vertical-align: top;\n",
              "    }\n",
              "\n",
              "    .dataframe thead th {\n",
              "        text-align: right;\n",
              "    }\n",
              "</style>\n",
              "<table border=\"1\" class=\"dataframe\">\n",
              "  <thead>\n",
              "    <tr style=\"text-align: right;\">\n",
              "      <th></th>\n",
              "      <th>id</th>\n",
              "      <th>texto</th>\n",
              "      <th>Fecha</th>\n",
              "      <th>retweet</th>\n",
              "      <th>favorite</th>\n",
              "      <th>dispositivo</th>\n",
              "      <th>codigo_usuario</th>\n",
              "      <th>alias_de_usuario</th>\n",
              "      <th>nombre_usuario</th>\n",
              "      <th>fecha_de_usuario</th>\n",
              "      <th>descripcion_del_usuario</th>\n",
              "      <th>seguidores_de_usuario</th>\n",
              "      <th>amigos_de_usuario</th>\n",
              "      <th>origen_usuario</th>\n",
              "    </tr>\n",
              "  </thead>\n",
              "  <tbody>\n",
              "    <tr>\n",
              "      <th>0</th>\n",
              "      <td>1325044772231319552</td>\n",
              "      <td>RT @LaNacionPy: 🔴 Seis países, entre ellos Din...</td>\n",
              "      <td>2020-11-07 11:57:46</td>\n",
              "      <td>1</td>\n",
              "      <td>0</td>\n",
              "      <td>Twitter for Android</td>\n",
              "      <td>280147821</td>\n",
              "      <td>CynthiaLorenaGP</td>\n",
              "      <td>Cynthia Lorena GP</td>\n",
              "      <td>2011-04-10 18:53:02</td>\n",
              "      <td>Abogada y futura Notaria. Olimpista. Lambareña...</td>\n",
              "      <td>120</td>\n",
              "      <td>914</td>\n",
              "      <td>Paraguay</td>\n",
              "    </tr>\n",
              "    <tr>\n",
              "      <th>1</th>\n",
              "      <td>1325043363574390785</td>\n",
              "      <td>🔴 Seis países, entre ellos Dinamarca, España y...</td>\n",
              "      <td>2020-11-07 11:52:10</td>\n",
              "      <td>1</td>\n",
              "      <td>0</td>\n",
              "      <td>Twitter Web App</td>\n",
              "      <td>166275230</td>\n",
              "      <td>LaNacionPy</td>\n",
              "      <td>Diario La Nación</td>\n",
              "      <td>2010-07-13 19:22:08</td>\n",
              "      <td>Información, análisis y opinión hace 25 años.\\...</td>\n",
              "      <td>325301</td>\n",
              "      <td>438</td>\n",
              "      <td>Paraguay</td>\n",
              "    </tr>\n",
              "    <tr>\n",
              "      <th>2</th>\n",
              "      <td>1325041977717641216</td>\n",
              "      <td>RT @npyoficial: #Destacado El reporte diario d...</td>\n",
              "      <td>2020-11-07 11:46:40</td>\n",
              "      <td>3</td>\n",
              "      <td>0</td>\n",
              "      <td>Twitter for Android</td>\n",
              "      <td>1059586038027468800</td>\n",
              "      <td>alexisdla_</td>\n",
              "      <td>Alexis 👽</td>\n",
              "      <td>2018-11-05 23:19:32</td>\n",
              "      <td>🤷🏻‍♂️</td>\n",
              "      <td>112</td>\n",
              "      <td>193</td>\n",
              "      <td>Asuncion, Paraguay</td>\n",
              "    </tr>\n",
              "    <tr>\n",
              "      <th>3</th>\n",
              "      <td>1325039205572079616</td>\n",
              "      <td>RT @npyoficial: #Destacado El reporte diario d...</td>\n",
              "      <td>2020-11-07 11:35:39</td>\n",
              "      <td>3</td>\n",
              "      <td>0</td>\n",
              "      <td>Twitter for iPhone</td>\n",
              "      <td>44473997</td>\n",
              "      <td>tanaschembori</td>\n",
              "      <td>tana schembori</td>\n",
              "      <td>2009-06-03 22:21:31</td>\n",
              "      <td>teatrera, contadora de historias, mama, herman...</td>\n",
              "      <td>46511</td>\n",
              "      <td>1383</td>\n",
              "      <td>asunción paraguay</td>\n",
              "    </tr>\n",
              "    <tr>\n",
              "      <th>4</th>\n",
              "      <td>1325039193920311298</td>\n",
              "      <td>#Destacado El reporte diario del covid-19 anun...</td>\n",
              "      <td>2020-11-07 11:35:36</td>\n",
              "      <td>0</td>\n",
              "      <td>0</td>\n",
              "      <td>TweetDeck</td>\n",
              "      <td>93931259</td>\n",
              "      <td>paraguaycom</td>\n",
              "      <td>Paraguay.com</td>\n",
              "      <td>2009-12-01 20:01:00</td>\n",
              "      <td>Noticias de Paraguay y el mundo, minuto a minu...</td>\n",
              "      <td>174141</td>\n",
              "      <td>727</td>\n",
              "      <td>Asunción, Paraguay</td>\n",
              "    </tr>\n",
              "  </tbody>\n",
              "</table>\n",
              "</div>"
            ],
            "text/plain": [
              "                    id  ...      origen_usuario\n",
              "0  1325044772231319552  ...            Paraguay\n",
              "1  1325043363574390785  ...            Paraguay\n",
              "2  1325041977717641216  ...  Asuncion, Paraguay\n",
              "3  1325039205572079616  ...   asunción paraguay\n",
              "4  1325039193920311298  ...  Asunción, Paraguay\n",
              "\n",
              "[5 rows x 14 columns]"
            ]
          },
          "metadata": {
            "tags": []
          },
          "execution_count": 79
        }
      ]
    },
    {
      "cell_type": "code",
      "metadata": {
        "id": "fxThER-iLUMW"
      },
      "source": [
        "#usar el texto para (ver el corpus para el analisis de sentimiento)\n",
        "#importamos la libreria NLTK ( Natural Lenguage Tool Kit)\n",
        "import nltk\n",
        "#nltk.download('stopwords')\n",
        "#nltk.download('punkt')"
      ],
      "execution_count": 80,
      "outputs": []
    },
    {
      "cell_type": "code",
      "metadata": {
        "id": "j0L-qgxsQeJB"
      },
      "source": [
        "#importa la libreria de soptwords de nltk \n",
        "from nltk.corpus import stopwords\n",
        "# Initialize the stopwords\n",
        "stoplist = stopwords.words('spanish')"
      ],
      "execution_count": 42,
      "outputs": []
    },
    {
      "cell_type": "code",
      "metadata": {
        "id": "c0kbPamERI00",
        "outputId": "b032aaa8-215d-4e61-9cd3-dcfb1c469523",
        "colab": {
          "base_uri": "https://localhost:8080/"
        }
      },
      "source": [
        "# datos de parada \n",
        "print(stoplist)"
      ],
      "execution_count": 81,
      "outputs": [
        {
          "output_type": "stream",
          "text": [
            "['de', 'la', 'que', 'el', 'en', 'y', 'a', 'los', 'del', 'se', 'las', 'por', 'un', 'para', 'con', 'no', 'una', 'su', 'al', 'lo', 'como', 'más', 'pero', 'sus', 'le', 'ya', 'o', 'este', 'sí', 'porque', 'esta', 'entre', 'cuando', 'muy', 'sin', 'sobre', 'también', 'me', 'hasta', 'hay', 'donde', 'quien', 'desde', 'todo', 'nos', 'durante', 'todos', 'uno', 'les', 'ni', 'contra', 'otros', 'ese', 'eso', 'ante', 'ellos', 'e', 'esto', 'mí', 'antes', 'algunos', 'qué', 'unos', 'yo', 'otro', 'otras', 'otra', 'él', 'tanto', 'esa', 'estos', 'mucho', 'quienes', 'nada', 'muchos', 'cual', 'poco', 'ella', 'estar', 'estas', 'algunas', 'algo', 'nosotros', 'mi', 'mis', 'tú', 'te', 'ti', 'tu', 'tus', 'ellas', 'nosotras', 'vosotros', 'vosotras', 'os', 'mío', 'mía', 'míos', 'mías', 'tuyo', 'tuya', 'tuyos', 'tuyas', 'suyo', 'suya', 'suyos', 'suyas', 'nuestro', 'nuestra', 'nuestros', 'nuestras', 'vuestro', 'vuestra', 'vuestros', 'vuestras', 'esos', 'esas', 'estoy', 'estás', 'está', 'estamos', 'estáis', 'están', 'esté', 'estés', 'estemos', 'estéis', 'estén', 'estaré', 'estarás', 'estará', 'estaremos', 'estaréis', 'estarán', 'estaría', 'estarías', 'estaríamos', 'estaríais', 'estarían', 'estaba', 'estabas', 'estábamos', 'estabais', 'estaban', 'estuve', 'estuviste', 'estuvo', 'estuvimos', 'estuvisteis', 'estuvieron', 'estuviera', 'estuvieras', 'estuviéramos', 'estuvierais', 'estuvieran', 'estuviese', 'estuvieses', 'estuviésemos', 'estuvieseis', 'estuviesen', 'estando', 'estado', 'estada', 'estados', 'estadas', 'estad', 'he', 'has', 'ha', 'hemos', 'habéis', 'han', 'haya', 'hayas', 'hayamos', 'hayáis', 'hayan', 'habré', 'habrás', 'habrá', 'habremos', 'habréis', 'habrán', 'habría', 'habrías', 'habríamos', 'habríais', 'habrían', 'había', 'habías', 'habíamos', 'habíais', 'habían', 'hube', 'hubiste', 'hubo', 'hubimos', 'hubisteis', 'hubieron', 'hubiera', 'hubieras', 'hubiéramos', 'hubierais', 'hubieran', 'hubiese', 'hubieses', 'hubiésemos', 'hubieseis', 'hubiesen', 'habiendo', 'habido', 'habida', 'habidos', 'habidas', 'soy', 'eres', 'es', 'somos', 'sois', 'son', 'sea', 'seas', 'seamos', 'seáis', 'sean', 'seré', 'serás', 'será', 'seremos', 'seréis', 'serán', 'sería', 'serías', 'seríamos', 'seríais', 'serían', 'era', 'eras', 'éramos', 'erais', 'eran', 'fui', 'fuiste', 'fue', 'fuimos', 'fuisteis', 'fueron', 'fuera', 'fueras', 'fuéramos', 'fuerais', 'fueran', 'fuese', 'fueses', 'fuésemos', 'fueseis', 'fuesen', 'sintiendo', 'sentido', 'sentida', 'sentidos', 'sentidas', 'siente', 'sentid', 'tengo', 'tienes', 'tiene', 'tenemos', 'tenéis', 'tienen', 'tenga', 'tengas', 'tengamos', 'tengáis', 'tengan', 'tendré', 'tendrás', 'tendrá', 'tendremos', 'tendréis', 'tendrán', 'tendría', 'tendrías', 'tendríamos', 'tendríais', 'tendrían', 'tenía', 'tenías', 'teníamos', 'teníais', 'tenían', 'tuve', 'tuviste', 'tuvo', 'tuvimos', 'tuvisteis', 'tuvieron', 'tuviera', 'tuvieras', 'tuviéramos', 'tuvierais', 'tuvieran', 'tuviese', 'tuvieses', 'tuviésemos', 'tuvieseis', 'tuviesen', 'teniendo', 'tenido', 'tenida', 'tenidos', 'tenidas', 'tened']\n"
          ],
          "name": "stdout"
        }
      ]
    },
    {
      "cell_type": "code",
      "metadata": {
        "id": "dku3cJ2yRV1N",
        "outputId": "72549b70-1ecb-46e3-b279-8e348c076a46",
        "colab": {
          "base_uri": "https://localhost:8080/"
        }
      },
      "source": [
        "# creamos un data frame solo con el texto \n",
        "datatexto =  data['texto']\n",
        "datatexto.head()"
      ],
      "execution_count": 82,
      "outputs": [
        {
          "output_type": "execute_result",
          "data": {
            "text/plain": [
              "0    RT @LaNacionPy: 🔴 Seis países, entre ellos Din...\n",
              "1    🔴 Seis países, entre ellos Dinamarca, España y...\n",
              "2    RT @npyoficial: #Destacado El reporte diario d...\n",
              "3    RT @npyoficial: #Destacado El reporte diario d...\n",
              "4    #Destacado El reporte diario del covid-19 anun...\n",
              "Name: texto, dtype: object"
            ]
          },
          "metadata": {
            "tags": []
          },
          "execution_count": 82
        }
      ]
    },
    {
      "cell_type": "code",
      "metadata": {
        "id": "TLwiOOCGXI6W"
      },
      "source": [
        "#funcion de limpiar el texto \n",
        "#librerias\n",
        "from string import punctuation\n",
        "from nltk import word_tokenize\n",
        "\n",
        "def limpiar_texto (text):\n",
        "    non_words = list(punctuation)\n",
        "    text = ''.join([c for c in text if c not in non_words])\n",
        "    tokens =  word_tokenize(text)\n",
        "    return tokens"
      ],
      "execution_count": 83,
      "outputs": []
    },
    {
      "cell_type": "code",
      "metadata": {
        "id": "XXqaNFZHban9"
      },
      "source": [
        "#crear una funcion \n",
        "#tokenizar los datos \n",
        "spanish_stopwords = stopwords.words('spanish')\n",
        "def valor_token(tokens):\n",
        "  vector_texto = []\n",
        "  #normalizacion del texto \n",
        "  tokens = [w.lower() for w in tokens]\n",
        "  tokens =  [w for w in tokens if not w in spanish_stopwords]\n",
        "  for item in tokens:\n",
        "        vector_texto.append((item))  \n",
        "  return vector_texto"
      ],
      "execution_count": 84,
      "outputs": []
    },
    {
      "cell_type": "code",
      "metadata": {
        "id": "AkXu5yLPfNnG"
      },
      "source": [
        "# Analizar sentimiento del corpus \n",
        "#!pip install spanish-sentiment-analysis\n",
        "#Libreria de Analisis de Sentimiento  https://pypi.org/project/spanish-sentiment-analysis   ( creado por Elliot Hofman 2018)\n",
        "from classifier import SentimentClassifier\n",
        "#crear una funcion \n",
        "def analizar(cadena_texto):\n",
        "  clf = SentimentClassifier()\n",
        "  valor = clf.predict(cadena_texto)\n",
        "  #print (cadena_texto,valor) \n",
        "  return valor"
      ],
      "execution_count": 85,
      "outputs": []
    },
    {
      "cell_type": "code",
      "metadata": {
        "id": "-N7mmtEoSEsv",
        "outputId": "dfa23e63-5037-4138-8e85-7eacc991cd66",
        "colab": {
          "base_uri": "https://localhost:8080/"
        }
      },
      "source": [
        "resultado_valor=[]\n",
        "for tweet in datatexto:\n",
        "  datos_limpios = limpiar_texto(tweet)\n",
        "  datos_tokenizados = valor_token (datos_limpios)\n",
        "  #print(datos_tokenizados)\n",
        "  cadena_valor = ' '.join([str(elem) for elem in datos_tokenizados])\n",
        "  #print (cadena_valor)\n",
        "  #analizar sentimiento del corpus \n",
        "  valor = analizar(cadena_valor)\n",
        "  resultado_valor.append(valor)  \n",
        "  print (resultado_valor)\n",
        "\n",
        "#agregar al data frame original el valor del Analisis del Corpus \n",
        "\n"
      ],
      "execution_count": 100,
      "outputs": [
        {
          "output_type": "stream",
          "text": [
            "[0.20788143176796334]\n",
            "[0.20788143176796334, 0.20788143176796334]\n",
            "[0.20788143176796334, 0.20788143176796334, 0.041255408390936506]\n",
            "[0.20788143176796334, 0.20788143176796334, 0.041255408390936506, 0.041255408390936506]\n",
            "[0.20788143176796334, 0.20788143176796334, 0.041255408390936506, 0.041255408390936506, 0.041255408390936506]\n",
            "[0.20788143176796334, 0.20788143176796334, 0.041255408390936506, 0.041255408390936506, 0.041255408390936506, 0.041255408390936506]\n",
            "[0.20788143176796334, 0.20788143176796334, 0.041255408390936506, 0.041255408390936506, 0.041255408390936506, 0.041255408390936506, 0.449804394751318]\n",
            "[0.20788143176796334, 0.20788143176796334, 0.041255408390936506, 0.041255408390936506, 0.041255408390936506, 0.041255408390936506, 0.449804394751318, 0.4039617781831547]\n",
            "[0.20788143176796334, 0.20788143176796334, 0.041255408390936506, 0.041255408390936506, 0.041255408390936506, 0.041255408390936506, 0.449804394751318, 0.4039617781831547, 0.03892627970177291]\n",
            "[0.20788143176796334, 0.20788143176796334, 0.041255408390936506, 0.041255408390936506, 0.041255408390936506, 0.041255408390936506, 0.449804394751318, 0.4039617781831547, 0.03892627970177291, 0.6262458917561593]\n"
          ],
          "name": "stdout"
        }
      ]
    },
    {
      "cell_type": "code",
      "metadata": {
        "id": "8fWFYVQcqC5P",
        "outputId": "0fecc7e8-92e3-4c5e-ea2c-ef3302fa9be9",
        "colab": {
          "base_uri": "https://localhost:8080/",
          "height": 289
        }
      },
      "source": [
        "#Se agrega la columan Pre = Prediccion del Analisis de Sentimiento al Data Frame original \"data\"\n",
        "data['Pre'] = resultado_valor\n",
        "#impimir data frame \n",
        "data.head()"
      ],
      "execution_count": 102,
      "outputs": [
        {
          "output_type": "execute_result",
          "data": {
            "text/html": [
              "<div>\n",
              "<style scoped>\n",
              "    .dataframe tbody tr th:only-of-type {\n",
              "        vertical-align: middle;\n",
              "    }\n",
              "\n",
              "    .dataframe tbody tr th {\n",
              "        vertical-align: top;\n",
              "    }\n",
              "\n",
              "    .dataframe thead th {\n",
              "        text-align: right;\n",
              "    }\n",
              "</style>\n",
              "<table border=\"1\" class=\"dataframe\">\n",
              "  <thead>\n",
              "    <tr style=\"text-align: right;\">\n",
              "      <th></th>\n",
              "      <th>id</th>\n",
              "      <th>texto</th>\n",
              "      <th>Fecha</th>\n",
              "      <th>retweet</th>\n",
              "      <th>favorite</th>\n",
              "      <th>dispositivo</th>\n",
              "      <th>codigo_usuario</th>\n",
              "      <th>alias_de_usuario</th>\n",
              "      <th>nombre_usuario</th>\n",
              "      <th>fecha_de_usuario</th>\n",
              "      <th>descripcion_del_usuario</th>\n",
              "      <th>seguidores_de_usuario</th>\n",
              "      <th>amigos_de_usuario</th>\n",
              "      <th>origen_usuario</th>\n",
              "      <th>Pre</th>\n",
              "    </tr>\n",
              "  </thead>\n",
              "  <tbody>\n",
              "    <tr>\n",
              "      <th>0</th>\n",
              "      <td>1325044772231319552</td>\n",
              "      <td>RT @LaNacionPy: 🔴 Seis países, entre ellos Din...</td>\n",
              "      <td>2020-11-07 11:57:46</td>\n",
              "      <td>1</td>\n",
              "      <td>0</td>\n",
              "      <td>Twitter for Android</td>\n",
              "      <td>280147821</td>\n",
              "      <td>CynthiaLorenaGP</td>\n",
              "      <td>Cynthia Lorena GP</td>\n",
              "      <td>2011-04-10 18:53:02</td>\n",
              "      <td>Abogada y futura Notaria. Olimpista. Lambareña...</td>\n",
              "      <td>120</td>\n",
              "      <td>914</td>\n",
              "      <td>Paraguay</td>\n",
              "      <td>0.207881</td>\n",
              "    </tr>\n",
              "    <tr>\n",
              "      <th>1</th>\n",
              "      <td>1325043363574390785</td>\n",
              "      <td>🔴 Seis países, entre ellos Dinamarca, España y...</td>\n",
              "      <td>2020-11-07 11:52:10</td>\n",
              "      <td>1</td>\n",
              "      <td>0</td>\n",
              "      <td>Twitter Web App</td>\n",
              "      <td>166275230</td>\n",
              "      <td>LaNacionPy</td>\n",
              "      <td>Diario La Nación</td>\n",
              "      <td>2010-07-13 19:22:08</td>\n",
              "      <td>Información, análisis y opinión hace 25 años.\\...</td>\n",
              "      <td>325301</td>\n",
              "      <td>438</td>\n",
              "      <td>Paraguay</td>\n",
              "      <td>0.207881</td>\n",
              "    </tr>\n",
              "    <tr>\n",
              "      <th>2</th>\n",
              "      <td>1325041977717641216</td>\n",
              "      <td>RT @npyoficial: #Destacado El reporte diario d...</td>\n",
              "      <td>2020-11-07 11:46:40</td>\n",
              "      <td>3</td>\n",
              "      <td>0</td>\n",
              "      <td>Twitter for Android</td>\n",
              "      <td>1059586038027468800</td>\n",
              "      <td>alexisdla_</td>\n",
              "      <td>Alexis 👽</td>\n",
              "      <td>2018-11-05 23:19:32</td>\n",
              "      <td>🤷🏻‍♂️</td>\n",
              "      <td>112</td>\n",
              "      <td>193</td>\n",
              "      <td>Asuncion, Paraguay</td>\n",
              "      <td>0.041255</td>\n",
              "    </tr>\n",
              "    <tr>\n",
              "      <th>3</th>\n",
              "      <td>1325039205572079616</td>\n",
              "      <td>RT @npyoficial: #Destacado El reporte diario d...</td>\n",
              "      <td>2020-11-07 11:35:39</td>\n",
              "      <td>3</td>\n",
              "      <td>0</td>\n",
              "      <td>Twitter for iPhone</td>\n",
              "      <td>44473997</td>\n",
              "      <td>tanaschembori</td>\n",
              "      <td>tana schembori</td>\n",
              "      <td>2009-06-03 22:21:31</td>\n",
              "      <td>teatrera, contadora de historias, mama, herman...</td>\n",
              "      <td>46511</td>\n",
              "      <td>1383</td>\n",
              "      <td>asunción paraguay</td>\n",
              "      <td>0.041255</td>\n",
              "    </tr>\n",
              "    <tr>\n",
              "      <th>4</th>\n",
              "      <td>1325039193920311298</td>\n",
              "      <td>#Destacado El reporte diario del covid-19 anun...</td>\n",
              "      <td>2020-11-07 11:35:36</td>\n",
              "      <td>0</td>\n",
              "      <td>0</td>\n",
              "      <td>TweetDeck</td>\n",
              "      <td>93931259</td>\n",
              "      <td>paraguaycom</td>\n",
              "      <td>Paraguay.com</td>\n",
              "      <td>2009-12-01 20:01:00</td>\n",
              "      <td>Noticias de Paraguay y el mundo, minuto a minu...</td>\n",
              "      <td>174141</td>\n",
              "      <td>727</td>\n",
              "      <td>Asunción, Paraguay</td>\n",
              "      <td>0.041255</td>\n",
              "    </tr>\n",
              "  </tbody>\n",
              "</table>\n",
              "</div>"
            ],
            "text/plain": [
              "                    id  ...       Pre\n",
              "0  1325044772231319552  ...  0.207881\n",
              "1  1325043363574390785  ...  0.207881\n",
              "2  1325041977717641216  ...  0.041255\n",
              "3  1325039205572079616  ...  0.041255\n",
              "4  1325039193920311298  ...  0.041255\n",
              "\n",
              "[5 rows x 15 columns]"
            ]
          },
          "metadata": {
            "tags": []
          },
          "execution_count": 102
        }
      ]
    }
  ]
}