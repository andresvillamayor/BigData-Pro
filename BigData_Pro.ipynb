{
  "nbformat": 4,
  "nbformat_minor": 0,
  "metadata": {
    "colab": {
      "name": "BigData-Pro.ipynb",
      "provenance": [],
      "authorship_tag": "ABX9TyMKSETBRNIkh5R47X1WqT2f",
      "include_colab_link": true
    },
    "kernelspec": {
      "name": "python3",
      "display_name": "Python 3"
    }
  },
  "cells": [
    {
      "cell_type": "markdown",
      "metadata": {
        "id": "view-in-github",
        "colab_type": "text"
      },
      "source": [
        "<a href=\"https://colab.research.google.com/github/andresvillamayor/BigData-Pro/blob/main/BigData_Pro.ipynb\" target=\"_parent\"><img src=\"https://colab.research.google.com/assets/colab-badge.svg\" alt=\"Open In Colab\"/></a>"
      ]
    },
    {
      "cell_type": "markdown",
      "metadata": {
        "id": "JNnvZWOXDS2e"
      },
      "source": [
        "Proyecto de Big Data \n",
        "Andrés Villamayor \n",
        "Universidad Comunera"
      ]
    },
    {
      "cell_type": "code",
      "metadata": {
        "id": "8MugxPMXDs0d"
      },
      "source": [
        "#importando librerias\n",
        "import pandas as pd \n",
        "from  google.colab import drive "
      ],
      "execution_count": 99,
      "outputs": []
    },
    {
      "cell_type": "code",
      "metadata": {
        "id": "RpbnIwmBHbrT",
        "outputId": "bac33f8c-acc5-481c-9dd9-b31d846d9add",
        "colab": {
          "base_uri": "https://localhost:8080/"
        }
      },
      "source": [
        "drive.mount(\"/content/drive\")\n",
        "#montar mi drive para los archivos \n"
      ],
      "execution_count": 100,
      "outputs": [
        {
          "output_type": "stream",
          "text": [
            "Drive already mounted at /content/drive; to attempt to forcibly remount, call drive.mount(\"/content/drive\", force_remount=True).\n"
          ],
          "name": "stdout"
        }
      ]
    },
    {
      "cell_type": "code",
      "metadata": {
        "id": "lV4a018wJ3sV"
      },
      "source": [
        "data = pd.read_csv(\"/content/drive/My Drive/UCOM-BIGDATA/datatweet-07112020-v3.csv\", sep=\",\" , engine=\"python\")"
      ],
      "execution_count": 101,
      "outputs": []
    },
    {
      "cell_type": "code",
      "metadata": {
        "id": "XtdAhmhHLDsA",
        "outputId": "cb6fcf54-706b-4080-a744-6a066995ec3b",
        "colab": {
          "base_uri": "https://localhost:8080/",
          "height": 289
        }
      },
      "source": [
        "data.head()"
      ],
      "execution_count": 102,
      "outputs": [
        {
          "output_type": "execute_result",
          "data": {
            "text/html": [
              "<div>\n",
              "<style scoped>\n",
              "    .dataframe tbody tr th:only-of-type {\n",
              "        vertical-align: middle;\n",
              "    }\n",
              "\n",
              "    .dataframe tbody tr th {\n",
              "        vertical-align: top;\n",
              "    }\n",
              "\n",
              "    .dataframe thead th {\n",
              "        text-align: right;\n",
              "    }\n",
              "</style>\n",
              "<table border=\"1\" class=\"dataframe\">\n",
              "  <thead>\n",
              "    <tr style=\"text-align: right;\">\n",
              "      <th></th>\n",
              "      <th>id</th>\n",
              "      <th>texto</th>\n",
              "      <th>Fecha</th>\n",
              "      <th>retweet</th>\n",
              "      <th>favorite</th>\n",
              "      <th>dispositivo</th>\n",
              "      <th>codigo_usuario</th>\n",
              "      <th>alias_de_usuario</th>\n",
              "      <th>nombre_usuario</th>\n",
              "      <th>fecha_de_usuario</th>\n",
              "      <th>descripcion_del_usuario</th>\n",
              "      <th>seguidores_de_usuario</th>\n",
              "      <th>amigos_de_usuario</th>\n",
              "      <th>origen_usuario</th>\n",
              "    </tr>\n",
              "  </thead>\n",
              "  <tbody>\n",
              "    <tr>\n",
              "      <th>0</th>\n",
              "      <td>1325064162855301125</td>\n",
              "      <td>#CoronavirusPy. Desde la XI Región Sanitaria c...</td>\n",
              "      <td>2020-11-07 13:14:49</td>\n",
              "      <td>0</td>\n",
              "      <td>1</td>\n",
              "      <td>Twitter Web App</td>\n",
              "      <td>166275230</td>\n",
              "      <td>LaNacionPy</td>\n",
              "      <td>Diario La Nación</td>\n",
              "      <td>2010-07-13 19:22:08</td>\n",
              "      <td>Información, análisis y opinión hace 25 años.\\...</td>\n",
              "      <td>325307</td>\n",
              "      <td>438</td>\n",
              "      <td>Paraguay</td>\n",
              "    </tr>\n",
              "    <tr>\n",
              "      <th>1</th>\n",
              "      <td>1325063936866201600</td>\n",
              "      <td>Salud reporta fallecimiento de menor de un año...</td>\n",
              "      <td>2020-11-07 13:13:55</td>\n",
              "      <td>0</td>\n",
              "      <td>0</td>\n",
              "      <td>Twitter for Android</td>\n",
              "      <td>3005586707</td>\n",
              "      <td>evcrojas</td>\n",
              "      <td>ENCARO🇵🇾📈💻🖥🎬⚽️</td>\n",
              "      <td>2015-01-30 13:40:55</td>\n",
              "      <td>Catedrático-Consultor en Negocios, Economía y ...</td>\n",
              "      <td>3428</td>\n",
              "      <td>1310</td>\n",
              "      <td>Asunción del Paraguay</td>\n",
              "    </tr>\n",
              "    <tr>\n",
              "      <th>2</th>\n",
              "      <td>1325061751289819136</td>\n",
              "      <td>RT @UNO650AM: Reportan muerte de un bebé de me...</td>\n",
              "      <td>2020-11-07 13:05:14</td>\n",
              "      <td>1</td>\n",
              "      <td>0</td>\n",
              "      <td>Twitter for Android</td>\n",
              "      <td>2491213810</td>\n",
              "      <td>rolon_lidia03</td>\n",
              "      <td>lidia concepcion</td>\n",
              "      <td>2014-04-18 03:27:54</td>\n",
              "      <td>NaN</td>\n",
              "      <td>869</td>\n",
              "      <td>389</td>\n",
              "      <td>NaN</td>\n",
              "    </tr>\n",
              "    <tr>\n",
              "      <th>3</th>\n",
              "      <td>1325060982247464961</td>\n",
              "      <td>RT @trecepy: ▪️ El ministerio de Salud reportó...</td>\n",
              "      <td>2020-11-07 13:02:11</td>\n",
              "      <td>5</td>\n",
              "      <td>0</td>\n",
              "      <td>Twitter for Android</td>\n",
              "      <td>2491213810</td>\n",
              "      <td>rolon_lidia03</td>\n",
              "      <td>lidia concepcion</td>\n",
              "      <td>2014-04-18 03:27:54</td>\n",
              "      <td>NaN</td>\n",
              "      <td>869</td>\n",
              "      <td>389</td>\n",
              "      <td>NaN</td>\n",
              "    </tr>\n",
              "    <tr>\n",
              "      <th>4</th>\n",
              "      <td>1325056628752867332</td>\n",
              "      <td>RT @Unicanal: 😢Un bebé de menos de 1 año fue v...</td>\n",
              "      <td>2020-11-07 12:44:53</td>\n",
              "      <td>4</td>\n",
              "      <td>0</td>\n",
              "      <td>Twitter for iPhone</td>\n",
              "      <td>1239988100409024514</td>\n",
              "      <td>ninnalezz</td>\n",
              "      <td>🌙☁️</td>\n",
              "      <td>2020-03-17 18:53:01</td>\n",
              "      <td>could you tell me what’s real?</td>\n",
              "      <td>98</td>\n",
              "      <td>89</td>\n",
              "      <td>NaN</td>\n",
              "    </tr>\n",
              "  </tbody>\n",
              "</table>\n",
              "</div>"
            ],
            "text/plain": [
              "                    id  ...         origen_usuario\n",
              "0  1325064162855301125  ...               Paraguay\n",
              "1  1325063936866201600  ...  Asunción del Paraguay\n",
              "2  1325061751289819136  ...                    NaN\n",
              "3  1325060982247464961  ...                    NaN\n",
              "4  1325056628752867332  ...                    NaN\n",
              "\n",
              "[5 rows x 14 columns]"
            ]
          },
          "metadata": {
            "tags": []
          },
          "execution_count": 102
        }
      ]
    },
    {
      "cell_type": "code",
      "metadata": {
        "id": "fxThER-iLUMW"
      },
      "source": [
        "#usar el texto para (ver el corpus para el analisis de sentimiento)\n",
        "#importamos la libreria NLTK ( Natural Lenguage Tool Kit)\n",
        "import nltk\n",
        "#nltk.download('stopwords') # ya se importo la libreria\n",
        "#nltk.download('punkt') # ya se importo la libreria"
      ],
      "execution_count": 103,
      "outputs": []
    },
    {
      "cell_type": "code",
      "metadata": {
        "id": "j0L-qgxsQeJB"
      },
      "source": [
        "#importa la libreria de soptwords de nltk \n",
        "from nltk.corpus import stopwords\n",
        "# Initialize the stopwords\n",
        "stoplist = stopwords.words('spanish')"
      ],
      "execution_count": 104,
      "outputs": []
    },
    {
      "cell_type": "code",
      "metadata": {
        "id": "c0kbPamERI00",
        "outputId": "a0af8890-2a3d-400d-d3a2-727bd6616d4a",
        "colab": {
          "base_uri": "https://localhost:8080/"
        }
      },
      "source": [
        "# datos de parada - verificacion que este en español \n",
        "print(stoplist)"
      ],
      "execution_count": 105,
      "outputs": [
        {
          "output_type": "stream",
          "text": [
            "['de', 'la', 'que', 'el', 'en', 'y', 'a', 'los', 'del', 'se', 'las', 'por', 'un', 'para', 'con', 'no', 'una', 'su', 'al', 'lo', 'como', 'más', 'pero', 'sus', 'le', 'ya', 'o', 'este', 'sí', 'porque', 'esta', 'entre', 'cuando', 'muy', 'sin', 'sobre', 'también', 'me', 'hasta', 'hay', 'donde', 'quien', 'desde', 'todo', 'nos', 'durante', 'todos', 'uno', 'les', 'ni', 'contra', 'otros', 'ese', 'eso', 'ante', 'ellos', 'e', 'esto', 'mí', 'antes', 'algunos', 'qué', 'unos', 'yo', 'otro', 'otras', 'otra', 'él', 'tanto', 'esa', 'estos', 'mucho', 'quienes', 'nada', 'muchos', 'cual', 'poco', 'ella', 'estar', 'estas', 'algunas', 'algo', 'nosotros', 'mi', 'mis', 'tú', 'te', 'ti', 'tu', 'tus', 'ellas', 'nosotras', 'vosotros', 'vosotras', 'os', 'mío', 'mía', 'míos', 'mías', 'tuyo', 'tuya', 'tuyos', 'tuyas', 'suyo', 'suya', 'suyos', 'suyas', 'nuestro', 'nuestra', 'nuestros', 'nuestras', 'vuestro', 'vuestra', 'vuestros', 'vuestras', 'esos', 'esas', 'estoy', 'estás', 'está', 'estamos', 'estáis', 'están', 'esté', 'estés', 'estemos', 'estéis', 'estén', 'estaré', 'estarás', 'estará', 'estaremos', 'estaréis', 'estarán', 'estaría', 'estarías', 'estaríamos', 'estaríais', 'estarían', 'estaba', 'estabas', 'estábamos', 'estabais', 'estaban', 'estuve', 'estuviste', 'estuvo', 'estuvimos', 'estuvisteis', 'estuvieron', 'estuviera', 'estuvieras', 'estuviéramos', 'estuvierais', 'estuvieran', 'estuviese', 'estuvieses', 'estuviésemos', 'estuvieseis', 'estuviesen', 'estando', 'estado', 'estada', 'estados', 'estadas', 'estad', 'he', 'has', 'ha', 'hemos', 'habéis', 'han', 'haya', 'hayas', 'hayamos', 'hayáis', 'hayan', 'habré', 'habrás', 'habrá', 'habremos', 'habréis', 'habrán', 'habría', 'habrías', 'habríamos', 'habríais', 'habrían', 'había', 'habías', 'habíamos', 'habíais', 'habían', 'hube', 'hubiste', 'hubo', 'hubimos', 'hubisteis', 'hubieron', 'hubiera', 'hubieras', 'hubiéramos', 'hubierais', 'hubieran', 'hubiese', 'hubieses', 'hubiésemos', 'hubieseis', 'hubiesen', 'habiendo', 'habido', 'habida', 'habidos', 'habidas', 'soy', 'eres', 'es', 'somos', 'sois', 'son', 'sea', 'seas', 'seamos', 'seáis', 'sean', 'seré', 'serás', 'será', 'seremos', 'seréis', 'serán', 'sería', 'serías', 'seríamos', 'seríais', 'serían', 'era', 'eras', 'éramos', 'erais', 'eran', 'fui', 'fuiste', 'fue', 'fuimos', 'fuisteis', 'fueron', 'fuera', 'fueras', 'fuéramos', 'fuerais', 'fueran', 'fuese', 'fueses', 'fuésemos', 'fueseis', 'fuesen', 'sintiendo', 'sentido', 'sentida', 'sentidos', 'sentidas', 'siente', 'sentid', 'tengo', 'tienes', 'tiene', 'tenemos', 'tenéis', 'tienen', 'tenga', 'tengas', 'tengamos', 'tengáis', 'tengan', 'tendré', 'tendrás', 'tendrá', 'tendremos', 'tendréis', 'tendrán', 'tendría', 'tendrías', 'tendríamos', 'tendríais', 'tendrían', 'tenía', 'tenías', 'teníamos', 'teníais', 'tenían', 'tuve', 'tuviste', 'tuvo', 'tuvimos', 'tuvisteis', 'tuvieron', 'tuviera', 'tuvieras', 'tuviéramos', 'tuvierais', 'tuvieran', 'tuviese', 'tuvieses', 'tuviésemos', 'tuvieseis', 'tuviesen', 'teniendo', 'tenido', 'tenida', 'tenidos', 'tenidas', 'tened']\n"
          ],
          "name": "stdout"
        }
      ]
    },
    {
      "cell_type": "code",
      "metadata": {
        "id": "dku3cJ2yRV1N",
        "outputId": "0e6e9e42-9aef-4255-bcc8-6f79442d9748",
        "colab": {
          "base_uri": "https://localhost:8080/"
        }
      },
      "source": [
        "# creamos un data frame solo con el texto \n",
        "datatexto =  data['texto']\n",
        "datatexto.head()"
      ],
      "execution_count": 106,
      "outputs": [
        {
          "output_type": "execute_result",
          "data": {
            "text/plain": [
              "0    #CoronavirusPy. Desde la XI Región Sanitaria c...\n",
              "1    Salud reporta fallecimiento de menor de un año...\n",
              "2    RT @UNO650AM: Reportan muerte de un bebé de me...\n",
              "3    RT @trecepy: ▪️ El ministerio de Salud reportó...\n",
              "4    RT @Unicanal: 😢Un bebé de menos de 1 año fue v...\n",
              "Name: texto, dtype: object"
            ]
          },
          "metadata": {
            "tags": []
          },
          "execution_count": 106
        }
      ]
    },
    {
      "cell_type": "code",
      "metadata": {
        "id": "TLwiOOCGXI6W"
      },
      "source": [
        "#funcion de limpiar el texto \n",
        "#librerias\n",
        "from string import punctuation\n",
        "from nltk import word_tokenize\n",
        "\n",
        "def limpiar_texto (text):\n",
        "    non_words = list(punctuation)\n",
        "    text = ''.join([c for c in text if c not in non_words])\n",
        "    tokens =  word_tokenize(text)\n",
        "    return tokens"
      ],
      "execution_count": 107,
      "outputs": []
    },
    {
      "cell_type": "code",
      "metadata": {
        "id": "XXqaNFZHban9"
      },
      "source": [
        "#crear una funcion \n",
        "#tokenizar los datos \n",
        "spanish_stopwords = stopwords.words('spanish')\n",
        "def valor_token(tokens):\n",
        "  vector_texto = []\n",
        "  #normalizacion del texto \n",
        "  tokens = [w.lower() for w in tokens]\n",
        "  tokens =  [w for w in tokens if not w in spanish_stopwords]\n",
        "  for item in tokens:\n",
        "        vector_texto.append((item))  \n",
        "  return vector_texto"
      ],
      "execution_count": 108,
      "outputs": []
    },
    {
      "cell_type": "code",
      "metadata": {
        "id": "AkXu5yLPfNnG"
      },
      "source": [
        "# Analizar sentimiento del corpus \n",
        "#!pip install spanish-sentiment-analysis\n",
        "#Libreria de Analisis de Sentimiento  https://pypi.org/project/spanish-sentiment-analysis   ( creado por Elliot Hofman 2018)\n",
        "from classifier import SentimentClassifier\n",
        "#crear una funcion \n",
        "def analizar(cadena_texto):\n",
        "  clf = SentimentClassifier()\n",
        "  valor = clf.predict(cadena_texto)\n",
        "  #print (cadena_texto,valor) \n",
        "  return valor"
      ],
      "execution_count": 109,
      "outputs": []
    },
    {
      "cell_type": "code",
      "metadata": {
        "id": "-N7mmtEoSEsv",
        "outputId": "151b2701-9c2f-42ff-cbef-7b23a8d50a45",
        "colab": {
          "base_uri": "https://localhost:8080/"
        }
      },
      "source": [
        "resultado_valor=[]\n",
        "for tweet in datatexto:\n",
        "  datos_limpios = limpiar_texto(tweet)\n",
        "  datos_tokenizados = valor_token (datos_limpios)\n",
        "  #print(datos_tokenizados)\n",
        "  cadena_valor = ' '.join([str(elem) for elem in datos_tokenizados])\n",
        "  #print (cadena_valor)\n",
        "  #analizar sentimiento del corpus \n",
        "  valor = analizar(cadena_valor)\n",
        "  resultado_valor.append(valor)  \n",
        "  #print (resultado_valor)\n",
        "\n",
        "#agregar al data frame original el valor del Analisis del Corpus \n",
        "print ('======================== Fin del proceso de Analisis ==================')\n"
      ],
      "execution_count": 110,
      "outputs": [
        {
          "output_type": "stream",
          "text": [
            "======================== Fin del proceso de Analisis ==================\n"
          ],
          "name": "stdout"
        }
      ]
    },
    {
      "cell_type": "code",
      "metadata": {
        "id": "8fWFYVQcqC5P",
        "outputId": "ef85f1ca-d383-4728-d9d4-42af9d84ec9c",
        "colab": {
          "base_uri": "https://localhost:8080/",
          "height": 289
        }
      },
      "source": [
        "#Se agrega la columan Pre = Prediccion del Analisis de Sentimiento al Data Frame original \"data\"\n",
        "data['Pre'] = resultado_valor\n",
        "#impimir data frame \n",
        "data.head()"
      ],
      "execution_count": 111,
      "outputs": [
        {
          "output_type": "execute_result",
          "data": {
            "text/html": [
              "<div>\n",
              "<style scoped>\n",
              "    .dataframe tbody tr th:only-of-type {\n",
              "        vertical-align: middle;\n",
              "    }\n",
              "\n",
              "    .dataframe tbody tr th {\n",
              "        vertical-align: top;\n",
              "    }\n",
              "\n",
              "    .dataframe thead th {\n",
              "        text-align: right;\n",
              "    }\n",
              "</style>\n",
              "<table border=\"1\" class=\"dataframe\">\n",
              "  <thead>\n",
              "    <tr style=\"text-align: right;\">\n",
              "      <th></th>\n",
              "      <th>id</th>\n",
              "      <th>texto</th>\n",
              "      <th>Fecha</th>\n",
              "      <th>retweet</th>\n",
              "      <th>favorite</th>\n",
              "      <th>dispositivo</th>\n",
              "      <th>codigo_usuario</th>\n",
              "      <th>alias_de_usuario</th>\n",
              "      <th>nombre_usuario</th>\n",
              "      <th>fecha_de_usuario</th>\n",
              "      <th>descripcion_del_usuario</th>\n",
              "      <th>seguidores_de_usuario</th>\n",
              "      <th>amigos_de_usuario</th>\n",
              "      <th>origen_usuario</th>\n",
              "      <th>Pre</th>\n",
              "    </tr>\n",
              "  </thead>\n",
              "  <tbody>\n",
              "    <tr>\n",
              "      <th>0</th>\n",
              "      <td>1325064162855301125</td>\n",
              "      <td>#CoronavirusPy. Desde la XI Región Sanitaria c...</td>\n",
              "      <td>2020-11-07 13:14:49</td>\n",
              "      <td>0</td>\n",
              "      <td>1</td>\n",
              "      <td>Twitter Web App</td>\n",
              "      <td>166275230</td>\n",
              "      <td>LaNacionPy</td>\n",
              "      <td>Diario La Nación</td>\n",
              "      <td>2010-07-13 19:22:08</td>\n",
              "      <td>Información, análisis y opinión hace 25 años.\\...</td>\n",
              "      <td>325307</td>\n",
              "      <td>438</td>\n",
              "      <td>Paraguay</td>\n",
              "      <td>0.307240</td>\n",
              "    </tr>\n",
              "    <tr>\n",
              "      <th>1</th>\n",
              "      <td>1325063936866201600</td>\n",
              "      <td>Salud reporta fallecimiento de menor de un año...</td>\n",
              "      <td>2020-11-07 13:13:55</td>\n",
              "      <td>0</td>\n",
              "      <td>0</td>\n",
              "      <td>Twitter for Android</td>\n",
              "      <td>3005586707</td>\n",
              "      <td>evcrojas</td>\n",
              "      <td>ENCARO🇵🇾📈💻🖥🎬⚽️</td>\n",
              "      <td>2015-01-30 13:40:55</td>\n",
              "      <td>Catedrático-Consultor en Negocios, Economía y ...</td>\n",
              "      <td>3428</td>\n",
              "      <td>1310</td>\n",
              "      <td>Asunción del Paraguay</td>\n",
              "      <td>0.008823</td>\n",
              "    </tr>\n",
              "    <tr>\n",
              "      <th>2</th>\n",
              "      <td>1325061751289819136</td>\n",
              "      <td>RT @UNO650AM: Reportan muerte de un bebé de me...</td>\n",
              "      <td>2020-11-07 13:05:14</td>\n",
              "      <td>1</td>\n",
              "      <td>0</td>\n",
              "      <td>Twitter for Android</td>\n",
              "      <td>2491213810</td>\n",
              "      <td>rolon_lidia03</td>\n",
              "      <td>lidia concepcion</td>\n",
              "      <td>2014-04-18 03:27:54</td>\n",
              "      <td>NaN</td>\n",
              "      <td>869</td>\n",
              "      <td>389</td>\n",
              "      <td>NaN</td>\n",
              "      <td>0.019861</td>\n",
              "    </tr>\n",
              "    <tr>\n",
              "      <th>3</th>\n",
              "      <td>1325060982247464961</td>\n",
              "      <td>RT @trecepy: ▪️ El ministerio de Salud reportó...</td>\n",
              "      <td>2020-11-07 13:02:11</td>\n",
              "      <td>5</td>\n",
              "      <td>0</td>\n",
              "      <td>Twitter for Android</td>\n",
              "      <td>2491213810</td>\n",
              "      <td>rolon_lidia03</td>\n",
              "      <td>lidia concepcion</td>\n",
              "      <td>2014-04-18 03:27:54</td>\n",
              "      <td>NaN</td>\n",
              "      <td>869</td>\n",
              "      <td>389</td>\n",
              "      <td>NaN</td>\n",
              "      <td>0.512039</td>\n",
              "    </tr>\n",
              "    <tr>\n",
              "      <th>4</th>\n",
              "      <td>1325056628752867332</td>\n",
              "      <td>RT @Unicanal: 😢Un bebé de menos de 1 año fue v...</td>\n",
              "      <td>2020-11-07 12:44:53</td>\n",
              "      <td>4</td>\n",
              "      <td>0</td>\n",
              "      <td>Twitter for iPhone</td>\n",
              "      <td>1239988100409024514</td>\n",
              "      <td>ninnalezz</td>\n",
              "      <td>🌙☁️</td>\n",
              "      <td>2020-03-17 18:53:01</td>\n",
              "      <td>could you tell me what’s real?</td>\n",
              "      <td>98</td>\n",
              "      <td>89</td>\n",
              "      <td>NaN</td>\n",
              "      <td>0.009402</td>\n",
              "    </tr>\n",
              "  </tbody>\n",
              "</table>\n",
              "</div>"
            ],
            "text/plain": [
              "                    id  ...       Pre\n",
              "0  1325064162855301125  ...  0.307240\n",
              "1  1325063936866201600  ...  0.008823\n",
              "2  1325061751289819136  ...  0.019861\n",
              "3  1325060982247464961  ...  0.512039\n",
              "4  1325056628752867332  ...  0.009402\n",
              "\n",
              "[5 rows x 15 columns]"
            ]
          },
          "metadata": {
            "tags": []
          },
          "execution_count": 111
        }
      ]
    },
    {
      "cell_type": "code",
      "metadata": {
        "id": "QuLI8ODl3k0L",
        "outputId": "2a7e24c3-d8b3-4997-a0f8-0ae4de73d46a",
        "colab": {
          "base_uri": "https://localhost:8080/"
        }
      },
      "source": [
        "#verificar los tipos de datos\n",
        "data.info()"
      ],
      "execution_count": 112,
      "outputs": [
        {
          "output_type": "stream",
          "text": [
            "<class 'pandas.core.frame.DataFrame'>\n",
            "RangeIndex: 500 entries, 0 to 499\n",
            "Data columns (total 15 columns):\n",
            " #   Column                   Non-Null Count  Dtype  \n",
            "---  ------                   --------------  -----  \n",
            " 0   id                       500 non-null    int64  \n",
            " 1   texto                    500 non-null    object \n",
            " 2   Fecha                    500 non-null    object \n",
            " 3   retweet                  500 non-null    int64  \n",
            " 4   favorite                 500 non-null    int64  \n",
            " 5   dispositivo              499 non-null    object \n",
            " 6   codigo_usuario           500 non-null    int64  \n",
            " 7   alias_de_usuario         500 non-null    object \n",
            " 8   nombre_usuario           500 non-null    object \n",
            " 9   fecha_de_usuario         500 non-null    object \n",
            " 10  descripcion_del_usuario  434 non-null    object \n",
            " 11  seguidores_de_usuario    500 non-null    int64  \n",
            " 12  amigos_de_usuario        500 non-null    int64  \n",
            " 13  origen_usuario           386 non-null    object \n",
            " 14  Pre                      500 non-null    float64\n",
            "dtypes: float64(1), int64(6), object(8)\n",
            "memory usage: 58.7+ KB\n"
          ],
          "name": "stdout"
        }
      ]
    },
    {
      "cell_type": "markdown",
      "metadata": {
        "id": "rWH253Pv4RNU"
      },
      "source": [
        "Verificar los Datos para normalizacion \n",
        "Uso de Lablel Encoder \n",
        "Eliminacion de Columnas que no aportan \n"
      ]
    },
    {
      "cell_type": "code",
      "metadata": {
        "id": "4Q4eEIdn6XEl",
        "outputId": "5f7e0296-9b84-4d6d-b4c1-d23f3deb3ced",
        "colab": {
          "base_uri": "https://localhost:8080/",
          "height": 204
        }
      },
      "source": [
        "# Revision de los datos \n",
        "# Borrar los campos de id \n",
        "# Borrar el codigo de usuario  se tiene su nombre y su alias \n",
        "data.drop(['id','codigo_usuario'],axis = 'columns',inplace = True)\n",
        "data.head()"
      ],
      "execution_count": 113,
      "outputs": [
        {
          "output_type": "execute_result",
          "data": {
            "text/html": [
              "<div>\n",
              "<style scoped>\n",
              "    .dataframe tbody tr th:only-of-type {\n",
              "        vertical-align: middle;\n",
              "    }\n",
              "\n",
              "    .dataframe tbody tr th {\n",
              "        vertical-align: top;\n",
              "    }\n",
              "\n",
              "    .dataframe thead th {\n",
              "        text-align: right;\n",
              "    }\n",
              "</style>\n",
              "<table border=\"1\" class=\"dataframe\">\n",
              "  <thead>\n",
              "    <tr style=\"text-align: right;\">\n",
              "      <th></th>\n",
              "      <th>texto</th>\n",
              "      <th>Fecha</th>\n",
              "      <th>retweet</th>\n",
              "      <th>favorite</th>\n",
              "      <th>dispositivo</th>\n",
              "      <th>alias_de_usuario</th>\n",
              "      <th>nombre_usuario</th>\n",
              "      <th>fecha_de_usuario</th>\n",
              "      <th>descripcion_del_usuario</th>\n",
              "      <th>seguidores_de_usuario</th>\n",
              "      <th>amigos_de_usuario</th>\n",
              "      <th>origen_usuario</th>\n",
              "      <th>Pre</th>\n",
              "    </tr>\n",
              "  </thead>\n",
              "  <tbody>\n",
              "    <tr>\n",
              "      <th>0</th>\n",
              "      <td>#CoronavirusPy. Desde la XI Región Sanitaria c...</td>\n",
              "      <td>2020-11-07 13:14:49</td>\n",
              "      <td>0</td>\n",
              "      <td>1</td>\n",
              "      <td>Twitter Web App</td>\n",
              "      <td>LaNacionPy</td>\n",
              "      <td>Diario La Nación</td>\n",
              "      <td>2010-07-13 19:22:08</td>\n",
              "      <td>Información, análisis y opinión hace 25 años.\\...</td>\n",
              "      <td>325307</td>\n",
              "      <td>438</td>\n",
              "      <td>Paraguay</td>\n",
              "      <td>0.307240</td>\n",
              "    </tr>\n",
              "    <tr>\n",
              "      <th>1</th>\n",
              "      <td>Salud reporta fallecimiento de menor de un año...</td>\n",
              "      <td>2020-11-07 13:13:55</td>\n",
              "      <td>0</td>\n",
              "      <td>0</td>\n",
              "      <td>Twitter for Android</td>\n",
              "      <td>evcrojas</td>\n",
              "      <td>ENCARO🇵🇾📈💻🖥🎬⚽️</td>\n",
              "      <td>2015-01-30 13:40:55</td>\n",
              "      <td>Catedrático-Consultor en Negocios, Economía y ...</td>\n",
              "      <td>3428</td>\n",
              "      <td>1310</td>\n",
              "      <td>Asunción del Paraguay</td>\n",
              "      <td>0.008823</td>\n",
              "    </tr>\n",
              "    <tr>\n",
              "      <th>2</th>\n",
              "      <td>RT @UNO650AM: Reportan muerte de un bebé de me...</td>\n",
              "      <td>2020-11-07 13:05:14</td>\n",
              "      <td>1</td>\n",
              "      <td>0</td>\n",
              "      <td>Twitter for Android</td>\n",
              "      <td>rolon_lidia03</td>\n",
              "      <td>lidia concepcion</td>\n",
              "      <td>2014-04-18 03:27:54</td>\n",
              "      <td>NaN</td>\n",
              "      <td>869</td>\n",
              "      <td>389</td>\n",
              "      <td>NaN</td>\n",
              "      <td>0.019861</td>\n",
              "    </tr>\n",
              "    <tr>\n",
              "      <th>3</th>\n",
              "      <td>RT @trecepy: ▪️ El ministerio de Salud reportó...</td>\n",
              "      <td>2020-11-07 13:02:11</td>\n",
              "      <td>5</td>\n",
              "      <td>0</td>\n",
              "      <td>Twitter for Android</td>\n",
              "      <td>rolon_lidia03</td>\n",
              "      <td>lidia concepcion</td>\n",
              "      <td>2014-04-18 03:27:54</td>\n",
              "      <td>NaN</td>\n",
              "      <td>869</td>\n",
              "      <td>389</td>\n",
              "      <td>NaN</td>\n",
              "      <td>0.512039</td>\n",
              "    </tr>\n",
              "    <tr>\n",
              "      <th>4</th>\n",
              "      <td>RT @Unicanal: 😢Un bebé de menos de 1 año fue v...</td>\n",
              "      <td>2020-11-07 12:44:53</td>\n",
              "      <td>4</td>\n",
              "      <td>0</td>\n",
              "      <td>Twitter for iPhone</td>\n",
              "      <td>ninnalezz</td>\n",
              "      <td>🌙☁️</td>\n",
              "      <td>2020-03-17 18:53:01</td>\n",
              "      <td>could you tell me what’s real?</td>\n",
              "      <td>98</td>\n",
              "      <td>89</td>\n",
              "      <td>NaN</td>\n",
              "      <td>0.009402</td>\n",
              "    </tr>\n",
              "  </tbody>\n",
              "</table>\n",
              "</div>"
            ],
            "text/plain": [
              "                                               texto  ...       Pre\n",
              "0  #CoronavirusPy. Desde la XI Región Sanitaria c...  ...  0.307240\n",
              "1  Salud reporta fallecimiento de menor de un año...  ...  0.008823\n",
              "2  RT @UNO650AM: Reportan muerte de un bebé de me...  ...  0.019861\n",
              "3  RT @trecepy: ▪️ El ministerio de Salud reportó...  ...  0.512039\n",
              "4  RT @Unicanal: 😢Un bebé de menos de 1 año fue v...  ...  0.009402\n",
              "\n",
              "[5 rows x 13 columns]"
            ]
          },
          "metadata": {
            "tags": []
          },
          "execution_count": 113
        }
      ]
    },
    {
      "cell_type": "code",
      "metadata": {
        "id": "9NHT0xOpD7Hh",
        "outputId": "2e675f0d-f1c2-48ee-a2f6-a6462fda79f6",
        "colab": {
          "base_uri": "https://localhost:8080/",
          "height": 289
        }
      },
      "source": [
        "#cacular hace cuanto tiempo usa twitter el usuario \n",
        "#libreria \n",
        "import numpy as np\n",
        "#\n",
        "data['Fecha'] = pd.to_datetime(data['Fecha'])\n",
        "data['fecha_de_usuario'] = pd.to_datetime(data['fecha_de_usuario'])\n",
        "data['Tiempo'] = ((data['Fecha']-data['fecha_de_usuario'])/np.timedelta64(1,'Y')).astype(int)\n",
        "data.head()"
      ],
      "execution_count": 114,
      "outputs": [
        {
          "output_type": "execute_result",
          "data": {
            "text/html": [
              "<div>\n",
              "<style scoped>\n",
              "    .dataframe tbody tr th:only-of-type {\n",
              "        vertical-align: middle;\n",
              "    }\n",
              "\n",
              "    .dataframe tbody tr th {\n",
              "        vertical-align: top;\n",
              "    }\n",
              "\n",
              "    .dataframe thead th {\n",
              "        text-align: right;\n",
              "    }\n",
              "</style>\n",
              "<table border=\"1\" class=\"dataframe\">\n",
              "  <thead>\n",
              "    <tr style=\"text-align: right;\">\n",
              "      <th></th>\n",
              "      <th>texto</th>\n",
              "      <th>Fecha</th>\n",
              "      <th>retweet</th>\n",
              "      <th>favorite</th>\n",
              "      <th>dispositivo</th>\n",
              "      <th>alias_de_usuario</th>\n",
              "      <th>nombre_usuario</th>\n",
              "      <th>fecha_de_usuario</th>\n",
              "      <th>descripcion_del_usuario</th>\n",
              "      <th>seguidores_de_usuario</th>\n",
              "      <th>amigos_de_usuario</th>\n",
              "      <th>origen_usuario</th>\n",
              "      <th>Pre</th>\n",
              "      <th>Tiempo</th>\n",
              "    </tr>\n",
              "  </thead>\n",
              "  <tbody>\n",
              "    <tr>\n",
              "      <th>0</th>\n",
              "      <td>#CoronavirusPy. Desde la XI Región Sanitaria c...</td>\n",
              "      <td>2020-11-07 13:14:49</td>\n",
              "      <td>0</td>\n",
              "      <td>1</td>\n",
              "      <td>Twitter Web App</td>\n",
              "      <td>LaNacionPy</td>\n",
              "      <td>Diario La Nación</td>\n",
              "      <td>2010-07-13 19:22:08</td>\n",
              "      <td>Información, análisis y opinión hace 25 años.\\...</td>\n",
              "      <td>325307</td>\n",
              "      <td>438</td>\n",
              "      <td>Paraguay</td>\n",
              "      <td>0.307240</td>\n",
              "      <td>10</td>\n",
              "    </tr>\n",
              "    <tr>\n",
              "      <th>1</th>\n",
              "      <td>Salud reporta fallecimiento de menor de un año...</td>\n",
              "      <td>2020-11-07 13:13:55</td>\n",
              "      <td>0</td>\n",
              "      <td>0</td>\n",
              "      <td>Twitter for Android</td>\n",
              "      <td>evcrojas</td>\n",
              "      <td>ENCARO🇵🇾📈💻🖥🎬⚽️</td>\n",
              "      <td>2015-01-30 13:40:55</td>\n",
              "      <td>Catedrático-Consultor en Negocios, Economía y ...</td>\n",
              "      <td>3428</td>\n",
              "      <td>1310</td>\n",
              "      <td>Asunción del Paraguay</td>\n",
              "      <td>0.008823</td>\n",
              "      <td>5</td>\n",
              "    </tr>\n",
              "    <tr>\n",
              "      <th>2</th>\n",
              "      <td>RT @UNO650AM: Reportan muerte de un bebé de me...</td>\n",
              "      <td>2020-11-07 13:05:14</td>\n",
              "      <td>1</td>\n",
              "      <td>0</td>\n",
              "      <td>Twitter for Android</td>\n",
              "      <td>rolon_lidia03</td>\n",
              "      <td>lidia concepcion</td>\n",
              "      <td>2014-04-18 03:27:54</td>\n",
              "      <td>NaN</td>\n",
              "      <td>869</td>\n",
              "      <td>389</td>\n",
              "      <td>NaN</td>\n",
              "      <td>0.019861</td>\n",
              "      <td>6</td>\n",
              "    </tr>\n",
              "    <tr>\n",
              "      <th>3</th>\n",
              "      <td>RT @trecepy: ▪️ El ministerio de Salud reportó...</td>\n",
              "      <td>2020-11-07 13:02:11</td>\n",
              "      <td>5</td>\n",
              "      <td>0</td>\n",
              "      <td>Twitter for Android</td>\n",
              "      <td>rolon_lidia03</td>\n",
              "      <td>lidia concepcion</td>\n",
              "      <td>2014-04-18 03:27:54</td>\n",
              "      <td>NaN</td>\n",
              "      <td>869</td>\n",
              "      <td>389</td>\n",
              "      <td>NaN</td>\n",
              "      <td>0.512039</td>\n",
              "      <td>6</td>\n",
              "    </tr>\n",
              "    <tr>\n",
              "      <th>4</th>\n",
              "      <td>RT @Unicanal: 😢Un bebé de menos de 1 año fue v...</td>\n",
              "      <td>2020-11-07 12:44:53</td>\n",
              "      <td>4</td>\n",
              "      <td>0</td>\n",
              "      <td>Twitter for iPhone</td>\n",
              "      <td>ninnalezz</td>\n",
              "      <td>🌙☁️</td>\n",
              "      <td>2020-03-17 18:53:01</td>\n",
              "      <td>could you tell me what’s real?</td>\n",
              "      <td>98</td>\n",
              "      <td>89</td>\n",
              "      <td>NaN</td>\n",
              "      <td>0.009402</td>\n",
              "      <td>0</td>\n",
              "    </tr>\n",
              "  </tbody>\n",
              "</table>\n",
              "</div>"
            ],
            "text/plain": [
              "                                               texto  ... Tiempo\n",
              "0  #CoronavirusPy. Desde la XI Región Sanitaria c...  ...     10\n",
              "1  Salud reporta fallecimiento de menor de un año...  ...      5\n",
              "2  RT @UNO650AM: Reportan muerte de un bebé de me...  ...      6\n",
              "3  RT @trecepy: ▪️ El ministerio de Salud reportó...  ...      6\n",
              "4  RT @Unicanal: 😢Un bebé de menos de 1 año fue v...  ...      0\n",
              "\n",
              "[5 rows x 14 columns]"
            ]
          },
          "metadata": {
            "tags": []
          },
          "execution_count": 114
        }
      ]
    },
    {
      "cell_type": "code",
      "metadata": {
        "id": "ZHHcqpCrJ9dU",
        "outputId": "3351effe-1245-4d4b-a65b-a0b04be0d507",
        "colab": {
          "base_uri": "https://localhost:8080/",
          "height": 589
        }
      },
      "source": [
        "# Colocar los valores Buenos y Malos dentro del Data Frame \n",
        "# Dependiendo del valor de Pre\n",
        "final = []\n",
        "#Valor 0 =  Sentimiento NEGATIVO\n",
        "#Valor 1 =  Sentimiento POSITIVO\n",
        "for resultado in  data['Pre']:\n",
        "  if resultado <= 0.5:\n",
        "    x = 'POSITIVO'\n",
        "    final.append(x)\n",
        "  else:\n",
        "    x = 'NEGATIVO'\n",
        "    final.append(x)\n",
        "\n",
        "#Agregamos la columna Target al Data Frame \n",
        "data['Final'] = final\n",
        "data"
      ],
      "execution_count": 117,
      "outputs": [
        {
          "output_type": "execute_result",
          "data": {
            "text/html": [
              "<div>\n",
              "<style scoped>\n",
              "    .dataframe tbody tr th:only-of-type {\n",
              "        vertical-align: middle;\n",
              "    }\n",
              "\n",
              "    .dataframe tbody tr th {\n",
              "        vertical-align: top;\n",
              "    }\n",
              "\n",
              "    .dataframe thead th {\n",
              "        text-align: right;\n",
              "    }\n",
              "</style>\n",
              "<table border=\"1\" class=\"dataframe\">\n",
              "  <thead>\n",
              "    <tr style=\"text-align: right;\">\n",
              "      <th></th>\n",
              "      <th>texto</th>\n",
              "      <th>Fecha</th>\n",
              "      <th>retweet</th>\n",
              "      <th>favorite</th>\n",
              "      <th>dispositivo</th>\n",
              "      <th>alias_de_usuario</th>\n",
              "      <th>nombre_usuario</th>\n",
              "      <th>fecha_de_usuario</th>\n",
              "      <th>descripcion_del_usuario</th>\n",
              "      <th>seguidores_de_usuario</th>\n",
              "      <th>amigos_de_usuario</th>\n",
              "      <th>origen_usuario</th>\n",
              "      <th>Pre</th>\n",
              "      <th>Tiempo</th>\n",
              "      <th>Final</th>\n",
              "    </tr>\n",
              "  </thead>\n",
              "  <tbody>\n",
              "    <tr>\n",
              "      <th>0</th>\n",
              "      <td>#CoronavirusPy. Desde la XI Región Sanitaria c...</td>\n",
              "      <td>2020-11-07 13:14:49</td>\n",
              "      <td>0</td>\n",
              "      <td>1</td>\n",
              "      <td>10</td>\n",
              "      <td>97</td>\n",
              "      <td>Diario La Nación</td>\n",
              "      <td>2010-07-13 19:22:08</td>\n",
              "      <td>Información, análisis y opinión hace 25 años.\\...</td>\n",
              "      <td>325307</td>\n",
              "      <td>438</td>\n",
              "      <td>55</td>\n",
              "      <td>0.307240</td>\n",
              "      <td>10</td>\n",
              "      <td>POSITIVO</td>\n",
              "    </tr>\n",
              "    <tr>\n",
              "      <th>1</th>\n",
              "      <td>Salud reporta fallecimiento de menor de un año...</td>\n",
              "      <td>2020-11-07 13:13:55</td>\n",
              "      <td>0</td>\n",
              "      <td>0</td>\n",
              "      <td>11</td>\n",
              "      <td>225</td>\n",
              "      <td>ENCARO🇵🇾📈💻🖥🎬⚽️</td>\n",
              "      <td>2015-01-30 13:40:55</td>\n",
              "      <td>Catedrático-Consultor en Negocios, Economía y ...</td>\n",
              "      <td>3428</td>\n",
              "      <td>1310</td>\n",
              "      <td>16</td>\n",
              "      <td>0.008823</td>\n",
              "      <td>5</td>\n",
              "      <td>POSITIVO</td>\n",
              "    </tr>\n",
              "    <tr>\n",
              "      <th>2</th>\n",
              "      <td>RT @UNO650AM: Reportan muerte de un bebé de me...</td>\n",
              "      <td>2020-11-07 13:05:14</td>\n",
              "      <td>1</td>\n",
              "      <td>0</td>\n",
              "      <td>11</td>\n",
              "      <td>316</td>\n",
              "      <td>lidia concepcion</td>\n",
              "      <td>2014-04-18 03:27:54</td>\n",
              "      <td>NaN</td>\n",
              "      <td>869</td>\n",
              "      <td>389</td>\n",
              "      <td>87</td>\n",
              "      <td>0.019861</td>\n",
              "      <td>6</td>\n",
              "      <td>POSITIVO</td>\n",
              "    </tr>\n",
              "    <tr>\n",
              "      <th>3</th>\n",
              "      <td>RT @trecepy: ▪️ El ministerio de Salud reportó...</td>\n",
              "      <td>2020-11-07 13:02:11</td>\n",
              "      <td>5</td>\n",
              "      <td>0</td>\n",
              "      <td>11</td>\n",
              "      <td>316</td>\n",
              "      <td>lidia concepcion</td>\n",
              "      <td>2014-04-18 03:27:54</td>\n",
              "      <td>NaN</td>\n",
              "      <td>869</td>\n",
              "      <td>389</td>\n",
              "      <td>87</td>\n",
              "      <td>0.512039</td>\n",
              "      <td>6</td>\n",
              "      <td>NEGATIVO</td>\n",
              "    </tr>\n",
              "    <tr>\n",
              "      <th>4</th>\n",
              "      <td>RT @Unicanal: 😢Un bebé de menos de 1 año fue v...</td>\n",
              "      <td>2020-11-07 12:44:53</td>\n",
              "      <td>4</td>\n",
              "      <td>0</td>\n",
              "      <td>12</td>\n",
              "      <td>292</td>\n",
              "      <td>🌙☁️</td>\n",
              "      <td>2020-03-17 18:53:01</td>\n",
              "      <td>could you tell me what’s real?</td>\n",
              "      <td>98</td>\n",
              "      <td>89</td>\n",
              "      <td>87</td>\n",
              "      <td>0.009402</td>\n",
              "      <td>0</td>\n",
              "      <td>POSITIVO</td>\n",
              "    </tr>\n",
              "    <tr>\n",
              "      <th>...</th>\n",
              "      <td>...</td>\n",
              "      <td>...</td>\n",
              "      <td>...</td>\n",
              "      <td>...</td>\n",
              "      <td>...</td>\n",
              "      <td>...</td>\n",
              "      <td>...</td>\n",
              "      <td>...</td>\n",
              "      <td>...</td>\n",
              "      <td>...</td>\n",
              "      <td>...</td>\n",
              "      <td>...</td>\n",
              "      <td>...</td>\n",
              "      <td>...</td>\n",
              "      <td>...</td>\n",
              "    </tr>\n",
              "    <tr>\n",
              "      <th>495</th>\n",
              "      <td>RT @sapy113: Números actualizados\\n*Biden - 26...</td>\n",
              "      <td>2020-11-06 03:15:48</td>\n",
              "      <td>105</td>\n",
              "      <td>0</td>\n",
              "      <td>11</td>\n",
              "      <td>20</td>\n",
              "      <td>Ayrton Vera</td>\n",
              "      <td>2019-07-15 03:12:53</td>\n",
              "      <td>Padre del campeón Giovanni,olimpista,paraguayo...</td>\n",
              "      <td>113</td>\n",
              "      <td>627</td>\n",
              "      <td>80</td>\n",
              "      <td>0.007649</td>\n",
              "      <td>1</td>\n",
              "      <td>POSITIVO</td>\n",
              "    </tr>\n",
              "    <tr>\n",
              "      <th>496</th>\n",
              "      <td>RT @sapy113: Números actualizados\\n*Biden - 26...</td>\n",
              "      <td>2020-11-06 03:13:24</td>\n",
              "      <td>105</td>\n",
              "      <td>0</td>\n",
              "      <td>11</td>\n",
              "      <td>162</td>\n",
              "      <td>St. V2s' Dance</td>\n",
              "      <td>2017-03-17 21:32:31</td>\n",
              "      <td>NaN</td>\n",
              "      <td>101</td>\n",
              "      <td>1867</td>\n",
              "      <td>87</td>\n",
              "      <td>0.007649</td>\n",
              "      <td>3</td>\n",
              "      <td>POSITIVO</td>\n",
              "    </tr>\n",
              "    <tr>\n",
              "      <th>497</th>\n",
              "      <td>RT @Senatur_Py: La ministra de Turismo, @Sofia...</td>\n",
              "      <td>2020-11-06 03:12:07</td>\n",
              "      <td>6</td>\n",
              "      <td>0</td>\n",
              "      <td>11</td>\n",
              "      <td>119</td>\n",
              "      <td>Milena Denisse</td>\n",
              "      <td>2011-07-10 06:04:06</td>\n",
              "      <td>Vivo a lo loco, porque lo bueno dura poco!!🤙🤘F...</td>\n",
              "      <td>850</td>\n",
              "      <td>499</td>\n",
              "      <td>87</td>\n",
              "      <td>0.582270</td>\n",
              "      <td>9</td>\n",
              "      <td>NEGATIVO</td>\n",
              "    </tr>\n",
              "    <tr>\n",
              "      <th>498</th>\n",
              "      <td>RT @LaNacionPy: La región de las Américas vivi...</td>\n",
              "      <td>2020-11-06 03:11:38</td>\n",
              "      <td>3</td>\n",
              "      <td>0</td>\n",
              "      <td>11</td>\n",
              "      <td>224</td>\n",
              "      <td>ernesto haidar</td>\n",
              "      <td>2013-05-29 16:16:04</td>\n",
              "      <td>NaN</td>\n",
              "      <td>115</td>\n",
              "      <td>89</td>\n",
              "      <td>87</td>\n",
              "      <td>0.322399</td>\n",
              "      <td>7</td>\n",
              "      <td>POSITIVO</td>\n",
              "    </tr>\n",
              "    <tr>\n",
              "      <th>499</th>\n",
              "      <td>RT @Senatur_Py: 📌 WEB | Club de Caza y Pesca d...</td>\n",
              "      <td>2020-11-06 03:08:26</td>\n",
              "      <td>13</td>\n",
              "      <td>0</td>\n",
              "      <td>11</td>\n",
              "      <td>119</td>\n",
              "      <td>Milena Denisse</td>\n",
              "      <td>2011-07-10 06:04:06</td>\n",
              "      <td>Vivo a lo loco, porque lo bueno dura poco!!🤙🤘F...</td>\n",
              "      <td>850</td>\n",
              "      <td>499</td>\n",
              "      <td>87</td>\n",
              "      <td>0.908566</td>\n",
              "      <td>9</td>\n",
              "      <td>NEGATIVO</td>\n",
              "    </tr>\n",
              "  </tbody>\n",
              "</table>\n",
              "<p>500 rows × 15 columns</p>\n",
              "</div>"
            ],
            "text/plain": [
              "                                                 texto  ...     Final\n",
              "0    #CoronavirusPy. Desde la XI Región Sanitaria c...  ...  POSITIVO\n",
              "1    Salud reporta fallecimiento de menor de un año...  ...  POSITIVO\n",
              "2    RT @UNO650AM: Reportan muerte de un bebé de me...  ...  POSITIVO\n",
              "3    RT @trecepy: ▪️ El ministerio de Salud reportó...  ...  NEGATIVO\n",
              "4    RT @Unicanal: 😢Un bebé de menos de 1 año fue v...  ...  POSITIVO\n",
              "..                                                 ...  ...       ...\n",
              "495  RT @sapy113: Números actualizados\\n*Biden - 26...  ...  POSITIVO\n",
              "496  RT @sapy113: Números actualizados\\n*Biden - 26...  ...  POSITIVO\n",
              "497  RT @Senatur_Py: La ministra de Turismo, @Sofia...  ...  NEGATIVO\n",
              "498  RT @LaNacionPy: La región de las Américas vivi...  ...  POSITIVO\n",
              "499  RT @Senatur_Py: 📌 WEB | Club de Caza y Pesca d...  ...  NEGATIVO\n",
              "\n",
              "[500 rows x 15 columns]"
            ]
          },
          "metadata": {
            "tags": []
          },
          "execution_count": 117
        }
      ]
    },
    {
      "cell_type": "code",
      "metadata": {
        "id": "y9vh60aHnHkK",
        "outputId": "226b90a9-c566-438f-8037-a11858e5b7e8",
        "colab": {
          "base_uri": "https://localhost:8080/"
        }
      },
      "source": [
        "#Uso de Lablel Encoder \n",
        "#importamos libreria \n",
        "from sklearn import preprocessing\n",
        "\n",
        "#codificacion\n",
        "#dispositivo \n",
        "leDispositivo  = preprocessing.LabelEncoder()\n",
        "data['dispositivo'] = leDispositivo.fit_transform(data['dispositivo'].astype(str))\n",
        "#origen usuario\n",
        "leOrigen_usuario  = preprocessing.LabelEncoder()\n",
        "data['origen_usuario'] = leOrigen_usuario.fit_transform(data['origen_usuario'].astype(str))\n",
        "\n",
        "leAliasdeusuario = preprocessing.LabelEncoder()\n",
        "data['alias_de_usuario'] = leAliasdeusuario.fit_transform(data['alias_de_usuario'].astype(str))\n",
        "\n",
        "leFinal = preprocessing.LabelEncoder()\n",
        "data['Final'] = leFinal.fit_transform(data['Final'].astype(str))\n",
        "\n",
        "data.head()\n",
        "\n",
        "\n",
        "# verificar la inversa del Label Encoder\n",
        "leDispositivo.inverse_transform(data['dispositivo'])  \n"
      ],
      "execution_count": 118,
      "outputs": [
        {
          "output_type": "execute_result",
          "data": {
            "text/plain": [
              "array(['10', '11', '11', '11', '12', '11', '11', '3', '11', '11', '10',\n",
              "       '11', '12', '7', '7', '10', '11', '10', '11', '12', '12', '11',\n",
              "       '11', '12', '11', '11', '12', '12', '11', '11', '11', '11', '10',\n",
              "       '11', '11', '11', '10', '10', '10', '11', '11', '11', '11', '11',\n",
              "       '12', '11', '11', '11', '11', '11', '11', '12', '11', '11', '11',\n",
              "       '11', '11', '12', '10', '11', '11', '11', '11', '11', '11', '17',\n",
              "       '10', '11', '7', '11', '12', '11', '10', '11', '11', '10', '12',\n",
              "       '10', '11', '10', '7', '10', '10', '12', '11', '12', '10', '11',\n",
              "       '11', '10', '10', '11', '7', '7', '11', '10', '11', '5', '11',\n",
              "       '11', '12', '11', '10', '11', '11', '11', '9', '7', '12', '10',\n",
              "       '10', '11', '9', '11', '11', '11', '8', '11', '11', '11', '11',\n",
              "       '11', '8', '10', '10', '11', '11', '11', '11', '12', '11', '12',\n",
              "       '11', '11', '11', '11', '11', '11', '10', '11', '11', '11', '10',\n",
              "       '11', '11', '10', '10', '11', '11', '11', '11', '11', '11', '12',\n",
              "       '11', '11', '11', '10', '11', '11', '10', '12', '10', '11', '11',\n",
              "       '11', '12', '10', '10', '11', '10', '10', '10', '11', '11', '11',\n",
              "       '10', '10', '7', '12', '11', '10', '10', '10', '11', '10', '11',\n",
              "       '10', '10', '10', '12', '10', '12', '11', '11', '10', '11', '11',\n",
              "       '11', '10', '11', '11', '12', '11', '11', '12', '12', '10', '11',\n",
              "       '11', '11', '11', '10', '11', '11', '10', '11', '11', '2', '12',\n",
              "       '11', '11', '11', '11', '10', '11', '9', '11', '11', '11', '11',\n",
              "       '11', '11', '12', '11', '12', '11', '10', '10', '10', '9', '9',\n",
              "       '12', '12', '3', '10', '10', '12', '10', '10', '13', '12', '11',\n",
              "       '10', '9', '9', '14', '12', '12', '11', '10', '11', '11', '11',\n",
              "       '10', '10', '11', '11', '11', '11', '11', '12', '12', '11', '10',\n",
              "       '11', '11', '11', '11', '10', '10', '10', '12', '10', '10', '11',\n",
              "       '11', '11', '11', '7', '10', '11', '12', '11', '11', '11', '11',\n",
              "       '10', '11', '0', '11', '11', '11', '10', '11', '11', '11', '11',\n",
              "       '11', '11', '11', '11', '11', '12', '10', '10', '10', '10', '10',\n",
              "       '11', '10', '11', '12', '11', '11', '10', '4', '11', '10', '10',\n",
              "       '11', '10', '11', '12', '10', '10', '11', '11', '11', '11', '11',\n",
              "       '10', '11', '11', '10', '11', '10', '11', '9', '11', '11', '11',\n",
              "       '11', '12', '7', '12', '15', '11', '11', '10', '10', '11', '12',\n",
              "       '11', '12', '12', '11', '10', '11', '11', '11', '11', '11', '10',\n",
              "       '6', '10', '11', '11', '10', '0', '11', '10', '12', '12', '11',\n",
              "       '16', '10', '11', '10', '11', '11', '10', '12', '11', '11', '11',\n",
              "       '10', '10', '10', '11', '11', '12', '12', '11', '12', '11', '12',\n",
              "       '12', '11', '10', '11', '11', '12', '11', '12', '10', '12', '6',\n",
              "       '11', '10', '11', '10', '1', '11', '11', '11', '11', '11', '11',\n",
              "       '11', '11', '12', '11', '11', '11', '10', '11', '11', '10', '11',\n",
              "       '11', '11', '10', '10', '11', '11', '11', '12', '11', '10', '10',\n",
              "       '10', '11', '11', '10', '10', '7', '10', '7', '10', '10', '11',\n",
              "       '11', '11', '10', '11', '7', '11', '9', '1', '11', '10', '11',\n",
              "       '11', '11', '11', '10', '10', '11', '11', '7', '12', '10', '11',\n",
              "       '11', '12', '11', '12', '11', '11', '10', '11', '10', '11', '11',\n",
              "       '11', '11', '11', '11', '11'], dtype=object)"
            ]
          },
          "metadata": {
            "tags": []
          },
          "execution_count": 118
        }
      ]
    },
    {
      "cell_type": "code",
      "metadata": {
        "id": "zaITunDJCU4d",
        "outputId": "ddf40e27-1233-411e-d635-fe50ac175d25",
        "colab": {
          "base_uri": "https://localhost:8080/"
        }
      },
      "source": [
        "data.info()"
      ],
      "execution_count": 32,
      "outputs": [
        {
          "output_type": "stream",
          "text": [
            "<class 'pandas.core.frame.DataFrame'>\n",
            "RangeIndex: 100 entries, 0 to 99\n",
            "Data columns (total 15 columns):\n",
            " #   Column                   Non-Null Count  Dtype         \n",
            "---  ------                   --------------  -----         \n",
            " 0   texto                    100 non-null    object        \n",
            " 1   Fecha                    100 non-null    datetime64[ns]\n",
            " 2   retweet                  100 non-null    int64         \n",
            " 3   favorite                 100 non-null    int64         \n",
            " 4   dispositivo              100 non-null    int64         \n",
            " 5   alias_de_usuario         100 non-null    object        \n",
            " 6   nombre_usuario           100 non-null    object        \n",
            " 7   fecha_de_usuario         100 non-null    datetime64[ns]\n",
            " 8   descripcion_del_usuario  89 non-null     object        \n",
            " 9   seguidores_de_usuario    100 non-null    int64         \n",
            " 10  amigos_de_usuario        100 non-null    int64         \n",
            " 11  origen_usuario           100 non-null    int64         \n",
            " 12  Pre                      100 non-null    float64       \n",
            " 13  Tiempo                   100 non-null    int64         \n",
            " 14  Final                    100 non-null    int64         \n",
            "dtypes: datetime64[ns](2), float64(1), int64(8), object(4)\n",
            "memory usage: 11.8+ KB\n"
          ],
          "name": "stdout"
        }
      ]
    },
    {
      "cell_type": "markdown",
      "metadata": {
        "id": "2GKYueD2HI1D"
      },
      "source": [
        "kMeans  - Cluster Model"
      ]
    },
    {
      "cell_type": "code",
      "metadata": {
        "id": "HyQKk-6GHH9L",
        "outputId": "c9aa48ae-c1bf-4f48-fcf8-c73869437fed",
        "colab": {
          "base_uri": "https://localhost:8080/"
        }
      },
      "source": [
        "#librerias\n",
        "from sklearn.cluster import KMeans\n",
        "import matplotlib.pyplot as plt\n",
        "from sklearn import  preprocessing\n",
        "#seleccion de datos \n",
        "\n",
        "df = data [['retweet','favorite','dispositivo','seguidores_de_usuario','amigos_de_usuario','Tiempo','Final']]\n",
        "#df1 = data.iloc[:,2:3] #retweet\n",
        "#df2 = data.iloc[:,3:4] #favorito\n",
        "#df3 = data.iloc[:,4:5] #dispositivo\n",
        "#df4 = data.iloc[:,9:10] #seguidores \n",
        "#df5 = data.iloc[:,10:11] # amigos \n",
        "#df6 = data.iloc[:,13:14] # Tiempo de que usa Twitter\n",
        "#df7 = data.iloc[:,14:15] # Target\n",
        "#df = pd.concat([df1,df2,df3,df4,df5,df6,df7], axis = 1)\n",
        "df.info()"
      ],
      "execution_count": 119,
      "outputs": [
        {
          "output_type": "stream",
          "text": [
            "<class 'pandas.core.frame.DataFrame'>\n",
            "RangeIndex: 500 entries, 0 to 499\n",
            "Data columns (total 7 columns):\n",
            " #   Column                 Non-Null Count  Dtype\n",
            "---  ------                 --------------  -----\n",
            " 0   retweet                500 non-null    int64\n",
            " 1   favorite               500 non-null    int64\n",
            " 2   dispositivo            500 non-null    int64\n",
            " 3   seguidores_de_usuario  500 non-null    int64\n",
            " 4   amigos_de_usuario      500 non-null    int64\n",
            " 5   Tiempo                 500 non-null    int64\n",
            " 6   Final                  500 non-null    int64\n",
            "dtypes: int64(7)\n",
            "memory usage: 27.5 KB\n"
          ],
          "name": "stdout"
        }
      ]
    },
    {
      "cell_type": "code",
      "metadata": {
        "id": "dzHC3dFEJD_j",
        "outputId": "37a4260a-0ed6-4b8a-e07b-dd552b261b88",
        "colab": {
          "base_uri": "https://localhost:8080/",
          "height": 204
        }
      },
      "source": [
        "# One hot encoding para las variables \n",
        "x = pd.get_dummies(df)\n",
        "#print (x) \n",
        "#Normalizacion  de datos [0-1]\n",
        "min_max_scaler = preprocessing.MinMaxScaler()\n",
        "xNorm = pd.DataFrame(min_max_scaler.fit_transform(x.values))\n",
        "xNorm.head()"
      ],
      "execution_count": 121,
      "outputs": [
        {
          "output_type": "execute_result",
          "data": {
            "text/html": [
              "<div>\n",
              "<style scoped>\n",
              "    .dataframe tbody tr th:only-of-type {\n",
              "        vertical-align: middle;\n",
              "    }\n",
              "\n",
              "    .dataframe tbody tr th {\n",
              "        vertical-align: top;\n",
              "    }\n",
              "\n",
              "    .dataframe thead th {\n",
              "        text-align: right;\n",
              "    }\n",
              "</style>\n",
              "<table border=\"1\" class=\"dataframe\">\n",
              "  <thead>\n",
              "    <tr style=\"text-align: right;\">\n",
              "      <th></th>\n",
              "      <th>0</th>\n",
              "      <th>1</th>\n",
              "      <th>2</th>\n",
              "      <th>3</th>\n",
              "      <th>4</th>\n",
              "      <th>5</th>\n",
              "      <th>6</th>\n",
              "    </tr>\n",
              "  </thead>\n",
              "  <tbody>\n",
              "    <tr>\n",
              "      <th>0</th>\n",
              "      <td>0.000000</td>\n",
              "      <td>0.004545</td>\n",
              "      <td>0.117647</td>\n",
              "      <td>0.314275</td>\n",
              "      <td>0.006571</td>\n",
              "      <td>0.909091</td>\n",
              "      <td>1.0</td>\n",
              "    </tr>\n",
              "    <tr>\n",
              "      <th>1</th>\n",
              "      <td>0.000000</td>\n",
              "      <td>0.000000</td>\n",
              "      <td>0.176471</td>\n",
              "      <td>0.003312</td>\n",
              "      <td>0.019682</td>\n",
              "      <td>0.454545</td>\n",
              "      <td>1.0</td>\n",
              "    </tr>\n",
              "    <tr>\n",
              "      <th>2</th>\n",
              "      <td>0.009524</td>\n",
              "      <td>0.000000</td>\n",
              "      <td>0.176471</td>\n",
              "      <td>0.000840</td>\n",
              "      <td>0.005834</td>\n",
              "      <td>0.545455</td>\n",
              "      <td>1.0</td>\n",
              "    </tr>\n",
              "    <tr>\n",
              "      <th>3</th>\n",
              "      <td>0.047619</td>\n",
              "      <td>0.000000</td>\n",
              "      <td>0.176471</td>\n",
              "      <td>0.000840</td>\n",
              "      <td>0.005834</td>\n",
              "      <td>0.545455</td>\n",
              "      <td>0.0</td>\n",
              "    </tr>\n",
              "    <tr>\n",
              "      <th>4</th>\n",
              "      <td>0.038095</td>\n",
              "      <td>0.000000</td>\n",
              "      <td>0.235294</td>\n",
              "      <td>0.000095</td>\n",
              "      <td>0.001323</td>\n",
              "      <td>0.000000</td>\n",
              "      <td>1.0</td>\n",
              "    </tr>\n",
              "  </tbody>\n",
              "</table>\n",
              "</div>"
            ],
            "text/plain": [
              "          0         1         2         3         4         5    6\n",
              "0  0.000000  0.004545  0.117647  0.314275  0.006571  0.909091  1.0\n",
              "1  0.000000  0.000000  0.176471  0.003312  0.019682  0.454545  1.0\n",
              "2  0.009524  0.000000  0.176471  0.000840  0.005834  0.545455  1.0\n",
              "3  0.047619  0.000000  0.176471  0.000840  0.005834  0.545455  0.0\n",
              "4  0.038095  0.000000  0.235294  0.000095  0.001323  0.000000  1.0"
            ]
          },
          "metadata": {
            "tags": []
          },
          "execution_count": 121
        }
      ]
    },
    {
      "cell_type": "code",
      "metadata": {
        "id": "hwBJ6OQyKd1V",
        "outputId": "6551bd94-0f99-423e-a531-2cfc0ce21ccc",
        "colab": {
          "base_uri": "https://localhost:8080/",
          "height": 295
        }
      },
      "source": [
        "#Curva de Elbow \n",
        "nc = range(1, 40)\n",
        "kmeans = [KMeans(n_clusters=i) for i in nc]\n",
        "score = [kmeans[i].fit(xNorm).score(xNorm) for i in range(len(kmeans))]\n",
        "#impresion de la Curva \n",
        "plt.plot(nc, score, color='green') \n",
        "plt.xlabel('Clusters')\n",
        "plt.ylabel('Score')\n",
        "plt.title('Elbow Curve')\n",
        "plt.show()"
      ],
      "execution_count": 122,
      "outputs": [
        {
          "output_type": "display_data",
          "data": {
            "image/png": "[encoded data removed]",
            "text/plain": [
              "<Figure size 432x288 with 1 Axes>"
            ]
          },
          "metadata": {
            "tags": [],
            "needs_background": "light"
          }
        }
      ]
    },
    {
      "cell_type": "code",
      "metadata": {
        "id": "22E_V1fnL3Z0",
        "outputId": "30588e4f-fc7e-4219-8588-ab8f85139406",
        "colab": {
          "base_uri": "https://localhost:8080/"
        }
      },
      "source": [
        "#Modelo \n",
        "kmeans = KMeans(n_clusters=35, max_iter=300, random_state=1)\n",
        "kmeans.fit(xNorm)\n",
        "print(\"Score: \" + str(kmeans.score(xNorm)))\n",
        "print(kmeans.labels_)\n",
        "#print(kmeans.cluster_centers_)\n",
        "clusters = pd.DataFrame(min_max_scaler.inverse_transform(kmeans.cluster_centers_), columns=x.columns)\n",
        "clusters['dispositivo'] = clusters['dispositivo'].round()\n",
        "clusters['Tiempo'] = clusters['Tiempo'].round()\n",
        "clusters['Final'] = clusters['Final'].round()\n",
        "#clusters\n",
        "df_svm = pd.DataFrame(clusters)\n",
        "print(df_svm)"
      ],
      "execution_count": 88,
      "outputs": [
        {
          "output_type": "stream",
          "text": [
            "Score: -0.8431518245840958\n",
            "[24  1  1 28  1 30 28  0 21 30 17 16  3 10 26 16  2 30 29  0  1 31  8  3\n",
            " 24  3  8 21  8  3  8 28  8  3  8 21  8 22  7 13 11 17 14 17  0 33 18 21\n",
            " 19  1 22 21  6 13 20 29 28  2  0 25  4 32 17 28 12  1 17  1  1  5 17 21\n",
            "  4  4 17  2 27  9 17 22 24 21 32 26 22 12  6 34 26 12  2 26 23 12 26  0\n",
            " 15 21 14 17]\n",
            "      retweet      favorite  dispositivo  ...  amigos_de_usuario  Tiempo  Final\n",
            "0    5.400000  0.000000e+00          5.0  ...         870.600000    10.0    1.0\n",
            "1    6.500000  2.500000e-01          5.0  ...         550.000000     9.0    0.0\n",
            "2    1.500000  1.250000e+00          4.0  ...         606.500000     0.0    0.0\n",
            "3    5.200000  0.000000e+00          5.0  ...         272.400000     5.0    1.0\n",
            "4    1.333333  3.333333e-01          1.0  ...         387.000000    10.0    0.0\n",
            "5    7.000000  2.500000e+01          4.0  ...         258.000000    11.0    0.0\n",
            "6    1.500000  2.500000e+00          4.0  ...        5718.000000    10.0    0.0\n",
            "7    6.000000  2.600000e+01          4.0  ...         126.000000     5.0    0.0\n",
            "8    2.571429  1.804112e-16          5.0  ...         302.285714     5.0    0.0\n",
            "9    0.000000  1.000000e+00          0.0  ...       11800.000000     8.0    0.0\n",
            "10  54.000000  0.000000e+00          5.0  ...        2690.000000    10.0    0.0\n",
            "11  57.000000  0.000000e+00          5.0  ...         841.000000     9.0    1.0\n",
            "12   4.000000  1.000000e+00          5.0  ...         106.000000     0.0    1.0\n",
            "13   0.500000  4.500000e+00          5.0  ...         438.000000    10.0    0.0\n",
            "14   6.000000  0.000000e+00          5.0  ...        3335.000000     6.0    1.0\n",
            "15   1.000000  6.000000e+00          2.0  ...         438.000000    10.0    1.0\n",
            "16  31.000000  0.000000e+00          5.0  ...         741.000000    10.0    0.0\n",
            "17   5.888889  1.804112e-16          5.0  ...        1035.555556     7.0    0.0\n",
            "18   1.000000  1.000000e+01          4.0  ...         119.000000    11.0    0.0\n",
            "19   0.000000  0.000000e+00          1.0  ...         320.000000     5.0    1.0\n",
            "20   0.000000  1.300000e+01          5.0  ...        2903.000000     4.0    0.0\n",
            "21   2.375000  1.804112e-16          5.0  ...         889.500000    10.0    0.0\n",
            "22   9.250000  0.000000e+00          5.0  ...        4123.500000     9.0    0.0\n",
            "23   2.000000  1.100000e+01          3.0  ...         410.000000     8.0    0.0\n",
            "24   4.000000  0.000000e+00          6.0  ...        1277.666667    11.0    1.0\n",
            "25   4.000000  7.000000e+00          4.0  ...         410.000000     8.0    1.0\n",
            "26   2.400000  0.000000e+00          5.0  ...         385.400000     0.0    0.0\n",
            "27   8.000000  0.000000e+00          5.0  ...        7569.000000     5.0    1.0\n",
            "28   1.000000  6.000000e-01          6.0  ...        1037.800000    10.0    0.0\n",
            "29   2.000000  5.000000e-01          4.0  ...        1576.000000     1.0    1.0\n",
            "30   4.666667  3.333333e-01          5.0  ...        1124.666667     3.0    0.0\n",
            "31   0.000000  0.000000e+00          5.0  ...        4999.000000    10.0    1.0\n",
            "32   0.500000  1.000000e+00          4.0  ...        1401.500000     8.0    0.0\n",
            "33   0.000000  3.000000e+00          7.0  ...          82.000000     5.0    0.0\n",
            "34   2.000000  5.000000e+00          1.0  ...         438.000000    10.0    0.0\n",
            "\n",
            "[35 rows x 7 columns]\n"
          ],
          "name": "stdout"
        }
      ]
    },
    {
      "cell_type": "code",
      "metadata": {
        "id": "i6FMTgtaMdZ0",
        "outputId": "91158590-5cb1-4a94-c1e3-deb40532694c",
        "colab": {
          "base_uri": "https://localhost:8080/"
        }
      },
      "source": [
        "df_svm.info()"
      ],
      "execution_count": 84,
      "outputs": [
        {
          "output_type": "stream",
          "text": [
            "<class 'pandas.core.frame.DataFrame'>\n",
            "RangeIndex: 35 entries, 0 to 34\n",
            "Data columns (total 7 columns):\n",
            " #   Column                 Non-Null Count  Dtype  \n",
            "---  ------                 --------------  -----  \n",
            " 0   retweet                35 non-null     float64\n",
            " 1   favorite               35 non-null     float64\n",
            " 2   dispositivo            35 non-null     float64\n",
            " 3   seguidores_de_usuario  35 non-null     float64\n",
            " 4   amigos_de_usuario      35 non-null     float64\n",
            " 5   Tiempo                 35 non-null     float64\n",
            " 6   Final                  35 non-null     float64\n",
            "dtypes: float64(7)\n",
            "memory usage: 2.0 KB\n"
          ],
          "name": "stdout"
        }
      ]
    },
    {
      "cell_type": "markdown",
      "metadata": {
        "id": "OWUWtbb1TpQR"
      },
      "source": [
        "Utilizando SVM MODEL  "
      ]
    },
    {
      "cell_type": "code",
      "metadata": {
        "id": "epKxc7KnT28p"
      },
      "source": [
        "#libreria \n",
        "from sklearn import svm\n",
        "from sklearn import preprocessing\n",
        "from sklearn import metrics\n",
        "from sklearn.model_selection import train_test_split\n",
        "\n",
        "y = df_svm['Final'] # Positivo = 1  //  Negativo = 0\n",
        "X = df_svm.iloc[:,0:5]\n",
        "\n"
      ],
      "execution_count": 93,
      "outputs": []
    },
    {
      "cell_type": "code",
      "metadata": {
        "id": "SORO57aADnAG",
        "outputId": "4d156d0c-2715-4a2b-a115-ca3cc9926f9c",
        "colab": {
          "base_uri": "https://localhost:8080/"
        }
      },
      "source": [
        "# Split en train y test  ( se toma los datos de la misma semilla - random_state = 1 , el 30 % de los datos son para entrenamiento test_size = 0.3)\n",
        "X_train,X_test,y_train,y_test = train_test_split(X,y,test_size= 0.3, random_state = 1)\n",
        "\n",
        "# Normalizacion a [0-1]\n",
        "#min_max_scaler_train = preprocessing.MinMaxScaler()\n",
        "#xNormTrain = pd.DataFrame(min_max_scaler_train.fit_transform(X_train.values))\n",
        "#min_max_scaler_test = preprocessing.MinMaxScaler()\n",
        "#xNormTest = pd.DataFrame(min_max_scaler_test.fit_transform(X_test.values))\n",
        "#print (X_train.values)\n",
        "#print (X_test.values)\n",
        "\n",
        "#Ceracion de Clasificacion SVM \n",
        "clf = svm.SVC(kernel='rbf', max_iter=2000, probability=1) # kernel={linear, rbf, poly, sigmoid}\n",
        "#Train the model using the training sets\n",
        "clf.fit(X_train, y_train)\n",
        "\n",
        "#Y Predicho \n",
        "y_pred = clf.predict(X_test)\n",
        "\n",
        "print(\"\\nTrain Score:\",clf.score(X_train, y_train))\n",
        "print(\"\\nAccuracy:\",metrics.accuracy_score(y_test, y_pred))\n",
        "metrics.precision_recall_fscore_support(y_test, y_pred, average=None)"
      ],
      "execution_count": 95,
      "outputs": [
        {
          "output_type": "stream",
          "text": [
            "\n",
            "Train Score: 0.7083333333333334\n",
            "\n",
            "Accuracy: 0.5454545454545454\n"
          ],
          "name": "stdout"
        },
        {
          "output_type": "execute_result",
          "data": {
            "text/plain": [
              "(array([0.54545455, 0.        ]),\n",
              " array([1., 0.]),\n",
              " array([0.70588235, 0.        ]),\n",
              " array([6, 5]))"
            ]
          },
          "metadata": {
            "tags": []
          },
          "execution_count": 95
        }
      ]
    },
    {
      "cell_type": "code",
      "metadata": {
        "id": "gjaPsicmd2po",
        "outputId": "213eab86-849c-434b-ce59-1166a1868a99",
        "colab": {
          "base_uri": "https://localhost:8080/",
          "height": 142
        }
      },
      "source": [
        "# Calcular matriz de confusion\n",
        "pd.crosstab(y_test, y_pred, \n",
        "            rownames=['actual'], \n",
        "            colnames=['pred'], margins=False, margins_name=\"Total\")"
      ],
      "execution_count": 96,
      "outputs": [
        {
          "output_type": "execute_result",
          "data": {
            "text/html": [
              "<div>\n",
              "<style scoped>\n",
              "    .dataframe tbody tr th:only-of-type {\n",
              "        vertical-align: middle;\n",
              "    }\n",
              "\n",
              "    .dataframe tbody tr th {\n",
              "        vertical-align: top;\n",
              "    }\n",
              "\n",
              "    .dataframe thead th {\n",
              "        text-align: right;\n",
              "    }\n",
              "</style>\n",
              "<table border=\"1\" class=\"dataframe\">\n",
              "  <thead>\n",
              "    <tr style=\"text-align: right;\">\n",
              "      <th>pred</th>\n",
              "      <th>0.0</th>\n",
              "    </tr>\n",
              "    <tr>\n",
              "      <th>actual</th>\n",
              "      <th></th>\n",
              "    </tr>\n",
              "  </thead>\n",
              "  <tbody>\n",
              "    <tr>\n",
              "      <th>0.0</th>\n",
              "      <td>6</td>\n",
              "    </tr>\n",
              "    <tr>\n",
              "      <th>1.0</th>\n",
              "      <td>5</td>\n",
              "    </tr>\n",
              "  </tbody>\n",
              "</table>\n",
              "</div>"
            ],
            "text/plain": [
              "pred    0.0\n",
              "actual     \n",
              "0.0       6\n",
              "1.0       5"
            ]
          },
          "metadata": {
            "tags": []
          },
          "execution_count": 96
        }
      ]
    },
    {
      "cell_type": "code",
      "metadata": {
        "id": "beZE_mHzea35",
        "outputId": "d5c08f40-761f-4d32-952f-f01bf7e2769d",
        "colab": {
          "base_uri": "https://localhost:8080/",
          "height": 390
        }
      },
      "source": [
        "# Obtener scores de clasificación en las clases 0 o 1\n",
        "y_scores = clf.predict_proba(X_test)\n",
        "\n",
        "# Crear dataframe de predicciones con scores\n",
        "dp = pd.DataFrame(zip(y_test,y_pred,y_scores[:,0],y_scores[:,1]), columns=['actual','pred','prob_yes','prob_no'])\n",
        "dp"
      ],
      "execution_count": 98,
      "outputs": [
        {
          "output_type": "execute_result",
          "data": {
            "text/html": [
              "<div>\n",
              "<style scoped>\n",
              "    .dataframe tbody tr th:only-of-type {\n",
              "        vertical-align: middle;\n",
              "    }\n",
              "\n",
              "    .dataframe tbody tr th {\n",
              "        vertical-align: top;\n",
              "    }\n",
              "\n",
              "    .dataframe thead th {\n",
              "        text-align: right;\n",
              "    }\n",
              "</style>\n",
              "<table border=\"1\" class=\"dataframe\">\n",
              "  <thead>\n",
              "    <tr style=\"text-align: right;\">\n",
              "      <th></th>\n",
              "      <th>actual</th>\n",
              "      <th>pred</th>\n",
              "      <th>prob_yes</th>\n",
              "      <th>prob_no</th>\n",
              "    </tr>\n",
              "  </thead>\n",
              "  <tbody>\n",
              "    <tr>\n",
              "      <th>0</th>\n",
              "      <td>1.0</td>\n",
              "      <td>0.0</td>\n",
              "      <td>0.712313</td>\n",
              "      <td>0.287687</td>\n",
              "    </tr>\n",
              "    <tr>\n",
              "      <th>1</th>\n",
              "      <td>1.0</td>\n",
              "      <td>0.0</td>\n",
              "      <td>0.694333</td>\n",
              "      <td>0.305667</td>\n",
              "    </tr>\n",
              "    <tr>\n",
              "      <th>2</th>\n",
              "      <td>1.0</td>\n",
              "      <td>0.0</td>\n",
              "      <td>0.686867</td>\n",
              "      <td>0.313133</td>\n",
              "    </tr>\n",
              "    <tr>\n",
              "      <th>3</th>\n",
              "      <td>1.0</td>\n",
              "      <td>0.0</td>\n",
              "      <td>0.697422</td>\n",
              "      <td>0.302578</td>\n",
              "    </tr>\n",
              "    <tr>\n",
              "      <th>4</th>\n",
              "      <td>0.0</td>\n",
              "      <td>0.0</td>\n",
              "      <td>0.731967</td>\n",
              "      <td>0.268033</td>\n",
              "    </tr>\n",
              "    <tr>\n",
              "      <th>5</th>\n",
              "      <td>0.0</td>\n",
              "      <td>0.0</td>\n",
              "      <td>0.756024</td>\n",
              "      <td>0.243976</td>\n",
              "    </tr>\n",
              "    <tr>\n",
              "      <th>6</th>\n",
              "      <td>0.0</td>\n",
              "      <td>0.0</td>\n",
              "      <td>0.720957</td>\n",
              "      <td>0.279043</td>\n",
              "    </tr>\n",
              "    <tr>\n",
              "      <th>7</th>\n",
              "      <td>1.0</td>\n",
              "      <td>0.0</td>\n",
              "      <td>0.749792</td>\n",
              "      <td>0.250208</td>\n",
              "    </tr>\n",
              "    <tr>\n",
              "      <th>8</th>\n",
              "      <td>0.0</td>\n",
              "      <td>0.0</td>\n",
              "      <td>0.686835</td>\n",
              "      <td>0.313165</td>\n",
              "    </tr>\n",
              "    <tr>\n",
              "      <th>9</th>\n",
              "      <td>0.0</td>\n",
              "      <td>0.0</td>\n",
              "      <td>0.717109</td>\n",
              "      <td>0.282891</td>\n",
              "    </tr>\n",
              "    <tr>\n",
              "      <th>10</th>\n",
              "      <td>0.0</td>\n",
              "      <td>0.0</td>\n",
              "      <td>0.700006</td>\n",
              "      <td>0.299994</td>\n",
              "    </tr>\n",
              "  </tbody>\n",
              "</table>\n",
              "</div>"
            ],
            "text/plain": [
              "    actual  pred  prob_yes   prob_no\n",
              "0      1.0   0.0  0.712313  0.287687\n",
              "1      1.0   0.0  0.694333  0.305667\n",
              "2      1.0   0.0  0.686867  0.313133\n",
              "3      1.0   0.0  0.697422  0.302578\n",
              "4      0.0   0.0  0.731967  0.268033\n",
              "5      0.0   0.0  0.756024  0.243976\n",
              "6      0.0   0.0  0.720957  0.279043\n",
              "7      1.0   0.0  0.749792  0.250208\n",
              "8      0.0   0.0  0.686835  0.313165\n",
              "9      0.0   0.0  0.717109  0.282891\n",
              "10     0.0   0.0  0.700006  0.299994"
            ]
          },
          "metadata": {
            "tags": []
          },
          "execution_count": 98
        }
      ]
    },
    {
      "cell_type": "code",
      "metadata": {
        "id": "IpBV-lT9etBG",
        "outputId": "7268875c-c540-4004-f0da-795da9afe881",
        "colab": {
          "base_uri": "https://localhost:8080/",
          "height": 313
        }
      },
      "source": [
        "# ROC Curve\n",
        "import numpy as np\n",
        "from sklearn.metrics import roc_auc_score\n",
        "\n",
        "print(roc_auc_score(y_test, y_scores[:,1]))\n",
        "metrics.plot_roc_curve(clf, xNormTest, y_test)"
      ],
      "execution_count": null,
      "outputs": [
        {
          "output_type": "stream",
          "text": [
            "0.5\n"
          ],
          "name": "stdout"
        },
        {
          "output_type": "execute_result",
          "data": {
            "text/plain": [
              "<sklearn.metrics._plot.roc_curve.RocCurveDisplay at 0x7ff3fc245c18>"
            ]
          },
          "metadata": {
            "tags": []
          },
          "execution_count": 197
        },
        {
          "output_type": "display_data",
          "data": {
            "image/png": "[encoded data removed]",
            "text/plain": [
              "<Figure size 432x288 with 1 Axes>"
            ]
          },
          "metadata": {
            "tags": [],
            "needs_background": "light"
          }
        }
      ]
    },
    {
      "cell_type": "markdown",
      "metadata": {
        "id": "0UCmvkZr9m24"
      },
      "source": [
        "Utilizando el kMeans Model\n"
      ]
    },
    {
      "cell_type": "code",
      "metadata": {
        "id": "UfPTGgu69xtA"
      },
      "source": [
        ""
      ],
      "execution_count": null,
      "outputs": []
    }
  ]
}